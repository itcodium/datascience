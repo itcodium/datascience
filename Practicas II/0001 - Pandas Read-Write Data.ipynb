{
 "cells": [
  {
   "cell_type": "markdown",
   "metadata": {},
   "source": [
    "# 0001 - Pandas Read and Write Data"
   ]
  },
  {
   "cell_type": "code",
   "execution_count": 1,
   "metadata": {},
   "outputs": [],
   "source": [
    "import pandas as pd"
   ]
  },
  {
   "cell_type": "markdown",
   "metadata": {},
   "source": [
    "### 1. Pandas Read and Write CSV"
   ]
  },
  {
   "cell_type": "code",
   "execution_count": 20,
   "metadata": {},
   "outputs": [
    {
     "data": {
      "text/plain": [
       "0    married\n",
       "1     single\n",
       "2    married\n",
       "3    married\n",
       "4    married\n",
       "Name: marital, dtype: object"
      ]
     },
     "execution_count": 20,
     "metadata": {},
     "output_type": "execute_result"
    }
   ],
   "source": [
    "data = pd.read_csv('../Datasets/bank/bank.csv', sep =';')\n",
    "data[0:5]['marital']"
   ]
  },
  {
   "cell_type": "code",
   "execution_count": 21,
   "metadata": {},
   "outputs": [],
   "source": [
    "d = {'c1': pd.Series(['A', 'B', 'C']),\n",
    "'c2': pd.Series([1, 2., 3., 4.])}\n",
    "df = pd.DataFrame(d)\n",
    "df.to_csv('save_data/sample_data.csv')"
   ]
  },
  {
   "cell_type": "markdown",
   "metadata": {},
   "source": [
    "### 2. Pandas Read and write  XLS"
   ]
  },
  {
   "cell_type": "code",
   "execution_count": 22,
   "metadata": {},
   "outputs": [
    {
     "data": {
      "text/html": [
       "<div>\n",
       "<style scoped>\n",
       "    .dataframe tbody tr th:only-of-type {\n",
       "        vertical-align: middle;\n",
       "    }\n",
       "\n",
       "    .dataframe tbody tr th {\n",
       "        vertical-align: top;\n",
       "    }\n",
       "\n",
       "    .dataframe thead th {\n",
       "        text-align: right;\n",
       "    }\n",
       "</style>\n",
       "<table border=\"1\" class=\"dataframe\">\n",
       "  <thead>\n",
       "    <tr style=\"text-align: right;\">\n",
       "      <th></th>\n",
       "      <th>City</th>\n",
       "      <th>Discipline</th>\n",
       "      <th>Event</th>\n",
       "      <th>Event gender</th>\n",
       "      <th>Medal</th>\n",
       "      <th>NOC</th>\n",
       "      <th>Sport</th>\n",
       "      <th>Year</th>\n",
       "    </tr>\n",
       "  </thead>\n",
       "  <tbody>\n",
       "    <tr>\n",
       "      <th>0</th>\n",
       "      <td>Chamonix</td>\n",
       "      <td>Figure skating</td>\n",
       "      <td>individual</td>\n",
       "      <td>M</td>\n",
       "      <td>Silver</td>\n",
       "      <td>AUT</td>\n",
       "      <td>Skating</td>\n",
       "      <td>1924</td>\n",
       "    </tr>\n",
       "    <tr>\n",
       "      <th>1</th>\n",
       "      <td>Chamonix</td>\n",
       "      <td>Figure skating</td>\n",
       "      <td>individual</td>\n",
       "      <td>W</td>\n",
       "      <td>Gold</td>\n",
       "      <td>AUT</td>\n",
       "      <td>Skating</td>\n",
       "      <td>1924</td>\n",
       "    </tr>\n",
       "    <tr>\n",
       "      <th>2</th>\n",
       "      <td>Chamonix</td>\n",
       "      <td>Figure skating</td>\n",
       "      <td>pairs</td>\n",
       "      <td>X</td>\n",
       "      <td>Gold</td>\n",
       "      <td>AUT</td>\n",
       "      <td>Skating</td>\n",
       "      <td>1924</td>\n",
       "    </tr>\n",
       "    <tr>\n",
       "      <th>3</th>\n",
       "      <td>Chamonix</td>\n",
       "      <td>Bobsleigh</td>\n",
       "      <td>four-man</td>\n",
       "      <td>M</td>\n",
       "      <td>Bronze</td>\n",
       "      <td>BEL</td>\n",
       "      <td>Bobsleigh</td>\n",
       "      <td>1924</td>\n",
       "    </tr>\n",
       "    <tr>\n",
       "      <th>4</th>\n",
       "      <td>Chamonix</td>\n",
       "      <td>Ice Hockey</td>\n",
       "      <td>ice hockey</td>\n",
       "      <td>M</td>\n",
       "      <td>Gold</td>\n",
       "      <td>CAN</td>\n",
       "      <td>Ice Hockey</td>\n",
       "      <td>1924</td>\n",
       "    </tr>\n",
       "  </tbody>\n",
       "</table>\n",
       "</div>"
      ],
      "text/plain": [
       "       City      Discipline       Event Event gender   Medal  NOC       Sport  \\\n",
       "0  Chamonix  Figure skating  individual            M  Silver  AUT     Skating   \n",
       "1  Chamonix  Figure skating  individual            W    Gold  AUT     Skating   \n",
       "2  Chamonix  Figure skating       pairs            X    Gold  AUT     Skating   \n",
       "3  Chamonix       Bobsleigh    four-man            M  Bronze  BEL   Bobsleigh   \n",
       "4  Chamonix      Ice Hockey  ice hockey            M    Gold  CAN  Ice Hockey   \n",
       "\n",
       "   Year  \n",
       "0  1924  \n",
       "1  1924  \n",
       "2  1924  \n",
       "3  1924  \n",
       "4  1924  "
      ]
     },
     "execution_count": 22,
     "metadata": {},
     "output_type": "execute_result"
    }
   ],
   "source": [
    "d=pd.read_excel('../Datasets/athletes/downloaded_medals.xls') \n",
    "d[0:5]"
   ]
  },
  {
   "cell_type": "code",
   "execution_count": 23,
   "metadata": {},
   "outputs": [],
   "source": [
    "df.to_excel('save_data/medals.xls')"
   ]
  },
  {
   "cell_type": "markdown",
   "metadata": {},
   "source": [
    "### 3. Pandas Read and write JSON"
   ]
  },
  {
   "cell_type": "code",
   "execution_count": 32,
   "metadata": {},
   "outputs": [
    {
     "data": {
      "text/plain": [
       "[{'Geekname': 'Sahil kumar', 'subject': 'Data structures', 'Articles': 10},\n",
       " {'Geekname': 'Pawan singh', 'subject': 'Algorithms', 'Articles': 16}]"
      ]
     },
     "execution_count": 32,
     "metadata": {},
     "output_type": "execute_result"
    }
   ],
   "source": [
    "import json\n",
    "json_data = open('../Datasets/data.json')\n",
    "data = json.load(json_data)\n",
    "json_data.close()\n",
    "\n",
    "data[\"Geeks\"][0:2] "
   ]
  },
  {
   "cell_type": "markdown",
   "metadata": {},
   "source": [
    "#### 4.1 Pandas read JSON"
   ]
  },
  {
   "cell_type": "code",
   "execution_count": 46,
   "metadata": {},
   "outputs": [
    {
     "data": {
      "text/plain": [
       "0    {'Geekname': 'Sahil kumar', 'subject': 'Data s...\n",
       "1    {'Geekname': 'Pawan singh', 'subject': 'Algori...\n",
       "2    {'Geekname': 'Ayush Goel', 'subject': 'Network...\n",
       "Name: Geeks, dtype: object"
      ]
     },
     "execution_count": 46,
     "metadata": {},
     "output_type": "execute_result"
    }
   ],
   "source": [
    "df = pd.read_json('../Datasets/data.json')\n",
    "df[\"Geeks\"]"
   ]
  },
  {
   "cell_type": "code",
   "execution_count": 47,
   "metadata": {},
   "outputs": [
    {
     "data": {
      "text/plain": [
       "'Pawan singh'"
      ]
     },
     "execution_count": 47,
     "metadata": {},
     "output_type": "execute_result"
    }
   ],
   "source": [
    "df[\"Geeks\"][1][\"Geekname\"]"
   ]
  },
  {
   "cell_type": "markdown",
   "metadata": {},
   "source": [
    "#### 4.2 Pandas read JSON from url"
   ]
  },
  {
   "cell_type": "code",
   "execution_count": 33,
   "metadata": {},
   "outputs": [
    {
     "data": {
      "text/html": [
       "<div>\n",
       "<style scoped>\n",
       "    .dataframe tbody tr th:only-of-type {\n",
       "        vertical-align: middle;\n",
       "    }\n",
       "\n",
       "    .dataframe tbody tr th {\n",
       "        vertical-align: top;\n",
       "    }\n",
       "\n",
       "    .dataframe thead th {\n",
       "        text-align: right;\n",
       "    }\n",
       "</style>\n",
       "<table border=\"1\" class=\"dataframe\">\n",
       "  <thead>\n",
       "    <tr style=\"text-align: right;\">\n",
       "      <th></th>\n",
       "      <th>integer</th>\n",
       "      <th>datetime</th>\n",
       "      <th>category</th>\n",
       "    </tr>\n",
       "  </thead>\n",
       "  <tbody>\n",
       "    <tr>\n",
       "      <th>0</th>\n",
       "      <td>5</td>\n",
       "      <td>2015-01-01 00:00:00</td>\n",
       "      <td>0</td>\n",
       "    </tr>\n",
       "    <tr>\n",
       "      <th>1</th>\n",
       "      <td>5</td>\n",
       "      <td>2015-01-01 00:00:01</td>\n",
       "      <td>0</td>\n",
       "    </tr>\n",
       "    <tr>\n",
       "      <th>10</th>\n",
       "      <td>5</td>\n",
       "      <td>2015-01-01 00:00:10</td>\n",
       "      <td>0</td>\n",
       "    </tr>\n",
       "    <tr>\n",
       "      <th>11</th>\n",
       "      <td>5</td>\n",
       "      <td>2015-01-01 00:00:11</td>\n",
       "      <td>0</td>\n",
       "    </tr>\n",
       "    <tr>\n",
       "      <th>12</th>\n",
       "      <td>8</td>\n",
       "      <td>2015-01-01 00:00:12</td>\n",
       "      <td>0</td>\n",
       "    </tr>\n",
       "    <tr>\n",
       "      <th>13</th>\n",
       "      <td>9</td>\n",
       "      <td>2015-01-01 00:00:13</td>\n",
       "      <td>0</td>\n",
       "    </tr>\n",
       "    <tr>\n",
       "      <th>14</th>\n",
       "      <td>8</td>\n",
       "      <td>2015-01-01 00:00:14</td>\n",
       "      <td>0</td>\n",
       "    </tr>\n",
       "    <tr>\n",
       "      <th>15</th>\n",
       "      <td>8</td>\n",
       "      <td>2015-01-01 00:00:15</td>\n",
       "      <td>0</td>\n",
       "    </tr>\n",
       "    <tr>\n",
       "      <th>16</th>\n",
       "      <td>2</td>\n",
       "      <td>2015-01-01 00:00:16</td>\n",
       "      <td>0</td>\n",
       "    </tr>\n",
       "    <tr>\n",
       "      <th>17</th>\n",
       "      <td>1</td>\n",
       "      <td>2015-01-01 00:00:17</td>\n",
       "      <td>0</td>\n",
       "    </tr>\n",
       "  </tbody>\n",
       "</table>\n",
       "</div>"
      ],
      "text/plain": [
       "    integer            datetime  category\n",
       "0         5 2015-01-01 00:00:00         0\n",
       "1         5 2015-01-01 00:00:01         0\n",
       "10        5 2015-01-01 00:00:10         0\n",
       "11        5 2015-01-01 00:00:11         0\n",
       "12        8 2015-01-01 00:00:12         0\n",
       "13        9 2015-01-01 00:00:13         0\n",
       "14        8 2015-01-01 00:00:14         0\n",
       "15        8 2015-01-01 00:00:15         0\n",
       "16        2 2015-01-01 00:00:16         0\n",
       "17        1 2015-01-01 00:00:17         0"
      ]
     },
     "execution_count": 33,
     "metadata": {},
     "output_type": "execute_result"
    }
   ],
   "source": [
    "url = 'https://raw.githubusercontent.com/chrisalbon/simulated_datasets/master/data.json'\n",
    "\n",
    "df = pd.read_json(url, orient='columns')\n",
    "df.head(10)"
   ]
  },
  {
   "cell_type": "markdown",
   "metadata": {},
   "source": [
    "### 4. Read data from database"
   ]
  },
  {
   "cell_type": "code",
   "execution_count": 51,
   "metadata": {},
   "outputs": [
    {
     "data": {
      "text/html": [
       "<div>\n",
       "<style scoped>\n",
       "    .dataframe tbody tr th:only-of-type {\n",
       "        vertical-align: middle;\n",
       "    }\n",
       "\n",
       "    .dataframe tbody tr th {\n",
       "        vertical-align: top;\n",
       "    }\n",
       "\n",
       "    .dataframe thead th {\n",
       "        text-align: right;\n",
       "    }\n",
       "</style>\n",
       "<table border=\"1\" class=\"dataframe\">\n",
       "  <thead>\n",
       "    <tr style=\"text-align: right;\">\n",
       "      <th></th>\n",
       "      <th>IdNew</th>\n",
       "      <th>IdNewsPaper</th>\n",
       "      <th>IdChannel</th>\n",
       "      <th>Title</th>\n",
       "      <th>Description</th>\n",
       "      <th>PublishDate</th>\n",
       "      <th>Link</th>\n",
       "      <th>Author</th>\n",
       "      <th>Created</th>\n",
       "    </tr>\n",
       "  </thead>\n",
       "  <tbody>\n",
       "    <tr>\n",
       "      <th>0</th>\n",
       "      <td>1</td>\n",
       "      <td>6</td>\n",
       "      <td>21</td>\n",
       "      <td>Maidana sorprendió con su atuendo: \"Vengo a ha...</td>\n",
       "      <td>El Chino apareció en la conferencia de prensa ...</td>\n",
       "      <td>2014-09-10 20:26:00</td>\n",
       "      <td>http://www.clarin.com/deportes/Floyd_Mayweathe...</td>\n",
       "      <td></td>\n",
       "      <td>2014-09-10 22:49:44.017</td>\n",
       "    </tr>\n",
       "    <tr>\n",
       "      <th>1</th>\n",
       "      <td>2</td>\n",
       "      <td>6</td>\n",
       "      <td>21</td>\n",
       "      <td>Magnano: \"Este Brasil no merecía irse así del ...</td>\n",
       "      <td>Tras la estrepitosa caída ante Serbia en cuart...</td>\n",
       "      <td>2014-09-10 19:38:34</td>\n",
       "      <td>http://www.clarin.com/deportes/Magnano-Brasil-...</td>\n",
       "      <td></td>\n",
       "      <td>2014-09-10 22:49:44.063</td>\n",
       "    </tr>\n",
       "    <tr>\n",
       "      <th>2</th>\n",
       "      <td>3</td>\n",
       "      <td>6</td>\n",
       "      <td>21</td>\n",
       "      <td>El nuevo estadio de San Lorenzo se llamará \"Pa...</td>\n",
       "      <td></td>\n",
       "      <td>2014-09-10 19:20:00</td>\n",
       "      <td>http://www.clarin.com/deportes/estadio-San-Lor...</td>\n",
       "      <td></td>\n",
       "      <td>2014-09-10 22:49:44.077</td>\n",
       "    </tr>\n",
       "  </tbody>\n",
       "</table>\n",
       "</div>"
      ],
      "text/plain": [
       "   IdNew  IdNewsPaper  IdChannel  \\\n",
       "0      1            6         21   \n",
       "1      2            6         21   \n",
       "2      3            6         21   \n",
       "\n",
       "                                               Title  \\\n",
       "0  Maidana sorprendió con su atuendo: \"Vengo a ha...   \n",
       "1  Magnano: \"Este Brasil no merecía irse así del ...   \n",
       "2  El nuevo estadio de San Lorenzo se llamará \"Pa...   \n",
       "\n",
       "                                         Description         PublishDate  \\\n",
       "0  El Chino apareció en la conferencia de prensa ... 2014-09-10 20:26:00   \n",
       "1  Tras la estrepitosa caída ante Serbia en cuart... 2014-09-10 19:38:34   \n",
       "2                                                    2014-09-10 19:20:00   \n",
       "\n",
       "                                                Link Author  \\\n",
       "0  http://www.clarin.com/deportes/Floyd_Mayweathe...          \n",
       "1  http://www.clarin.com/deportes/Magnano-Brasil-...          \n",
       "2  http://www.clarin.com/deportes/estadio-San-Lor...          \n",
       "\n",
       "                  Created  \n",
       "0 2014-09-10 22:49:44.017  \n",
       "1 2014-09-10 22:49:44.063  \n",
       "2 2014-09-10 22:49:44.077  "
      ]
     },
     "execution_count": 51,
     "metadata": {},
     "output_type": "execute_result"
    }
   ],
   "source": [
    "import pandas as pd\n",
    "import pyodbc\n",
    "\n",
    "sql_conn = pyodbc.connect('DRIVER=SQL Server Native Client 11.0;SERVER=MYEQ-PC;DATABASE=v0011129_reader_news;Trusted_Connection=yes') \n",
    "query = \"SELECT * FROM [dbo].[news]\"\n",
    "df = pd.read_sql(query, sql_conn)\n",
    "\n",
    "df.head(3)\n",
    "                          \n",
    "                          "
   ]
  },
  {
   "cell_type": "code",
   "execution_count": null,
   "metadata": {},
   "outputs": [],
   "source": []
  }
 ],
 "metadata": {
  "kernelspec": {
   "display_name": "Python 3",
   "language": "python",
   "name": "python3"
  },
  "language_info": {
   "codemirror_mode": {
    "name": "ipython",
    "version": 3
   },
   "file_extension": ".py",
   "mimetype": "text/x-python",
   "name": "python",
   "nbconvert_exporter": "python",
   "pygments_lexer": "ipython3",
   "version": "3.6.5"
  }
 },
 "nbformat": 4,
 "nbformat_minor": 2
}
