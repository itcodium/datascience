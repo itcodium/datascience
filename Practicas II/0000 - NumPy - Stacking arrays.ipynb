{
 "cells": [
  {
   "cell_type": "markdown",
   "metadata": {},
   "source": [
    "# Stacking arrays"
   ]
  },
  {
   "cell_type": "code",
   "execution_count": 1,
   "metadata": {},
   "outputs": [],
   "source": [
    "import numpy as np"
   ]
  },
  {
   "cell_type": "code",
   "execution_count": 6,
   "metadata": {},
   "outputs": [
    {
     "data": {
      "text/plain": [
       "array([[ 0,  1,  2,  3,  4],\n",
       "       [ 5,  6,  7,  8,  9],\n",
       "       [10, 11, 12, 13, 14],\n",
       "       [15, 16, 17, 18, 19],\n",
       "       [20, 21, 22, 23, 24],\n",
       "       [25, 26, 27, 28, 29],\n",
       "       [30, 31, 32, 33, 34],\n",
       "       [35, 36, 37, 38, 39],\n",
       "       [40, 41, 42, 43, 44],\n",
       "       [45, 46, 47, 48, 49]])"
      ]
     },
     "execution_count": 6,
     "metadata": {},
     "output_type": "execute_result"
    }
   ],
   "source": [
    "dataset = np.arange(50).reshape(10,5)\n",
    "dataset"
   ]
  },
  {
   "cell_type": "code",
   "execution_count": 4,
   "metadata": {},
   "outputs": [],
   "source": [
    "single_line = np.arange(1*5).reshape(1,5)\n",
    "a_few_lines = np.arange(3*5).reshape(3,5)"
   ]
  },
  {
   "cell_type": "code",
   "execution_count": 7,
   "metadata": {},
   "outputs": [
    {
     "data": {
      "text/plain": [
       "array([[0, 1, 2, 3, 4]])"
      ]
     },
     "execution_count": 7,
     "metadata": {},
     "output_type": "execute_result"
    }
   ],
   "source": [
    "single_line"
   ]
  },
  {
   "cell_type": "code",
   "execution_count": 5,
   "metadata": {},
   "outputs": [
    {
     "data": {
      "text/plain": [
       "array([[ 0,  1,  2,  3,  4],\n",
       "       [ 5,  6,  7,  8,  9],\n",
       "       [10, 11, 12, 13, 14],\n",
       "       [15, 16, 17, 18, 19],\n",
       "       [20, 21, 22, 23, 24],\n",
       "       [25, 26, 27, 28, 29],\n",
       "       [30, 31, 32, 33, 34],\n",
       "       [35, 36, 37, 38, 39],\n",
       "       [40, 41, 42, 43, 44],\n",
       "       [45, 46, 47, 48, 49],\n",
       "       [ 0,  1,  2,  3,  4]])"
      ]
     },
     "execution_count": 5,
     "metadata": {},
     "output_type": "execute_result"
    }
   ],
   "source": [
    "np.vstack((dataset,single_line))"
   ]
  },
  {
   "cell_type": "code",
   "execution_count": 8,
   "metadata": {},
   "outputs": [
    {
     "data": {
      "text/plain": [
       "array([[ 0,  1,  2,  3,  4],\n",
       "       [ 5,  6,  7,  8,  9],\n",
       "       [10, 11, 12, 13, 14],\n",
       "       [15, 16, 17, 18, 19],\n",
       "       [20, 21, 22, 23, 24],\n",
       "       [25, 26, 27, 28, 29],\n",
       "       [30, 31, 32, 33, 34],\n",
       "       [35, 36, 37, 38, 39],\n",
       "       [40, 41, 42, 43, 44],\n",
       "       [45, 46, 47, 48, 49],\n",
       "       [ 0,  1,  2,  3,  4],\n",
       "       [ 5,  6,  7,  8,  9],\n",
       "       [10, 11, 12, 13, 14]])"
      ]
     },
     "execution_count": 8,
     "metadata": {},
     "output_type": "execute_result"
    }
   ],
   "source": [
    "np.vstack((dataset,a_few_lines))"
   ]
  },
  {
   "cell_type": "code",
   "execution_count": 9,
   "metadata": {},
   "outputs": [
    {
     "data": {
      "text/plain": [
       "array([[ 0,  1,  2,  3,  4],\n",
       "       [ 5,  6,  7,  8,  9],\n",
       "       [10, 11, 12, 13, 14],\n",
       "       [15, 16, 17, 18, 19],\n",
       "       [20, 21, 22, 23, 24],\n",
       "       [25, 26, 27, 28, 29],\n",
       "       [30, 31, 32, 33, 34],\n",
       "       [35, 36, 37, 38, 39],\n",
       "       [40, 41, 42, 43, 44],\n",
       "       [45, 46, 47, 48, 49],\n",
       "       [ 0,  1,  2,  3,  4],\n",
       "       [ 0,  1,  2,  3,  4]])"
      ]
     },
     "execution_count": 9,
     "metadata": {},
     "output_type": "execute_result"
    }
   ],
   "source": [
    "np.vstack((dataset,single_line,single_line))"
   ]
  },
  {
   "cell_type": "code",
   "execution_count": 11,
   "metadata": {},
   "outputs": [
    {
     "data": {
      "text/plain": [
       "array([[ 0.,  1.,  2.,  3.,  4.,  1.],\n",
       "       [ 5.,  6.,  7.,  8.,  9.,  1.],\n",
       "       [10., 11., 12., 13., 14.,  1.],\n",
       "       [15., 16., 17., 18., 19.,  1.],\n",
       "       [20., 21., 22., 23., 24.,  1.],\n",
       "       [25., 26., 27., 28., 29.,  1.],\n",
       "       [30., 31., 32., 33., 34.,  1.],\n",
       "       [35., 36., 37., 38., 39.,  1.],\n",
       "       [40., 41., 42., 43., 44.,  1.],\n",
       "       [45., 46., 47., 48., 49.,  1.]])"
      ]
     },
     "execution_count": 11,
     "metadata": {},
     "output_type": "execute_result"
    }
   ],
   "source": [
    "bias = np.ones(10).reshape(10,1) \n",
    "np.hstack((dataset,bias))"
   ]
  },
  {
   "cell_type": "code",
   "execution_count": 12,
   "metadata": {},
   "outputs": [
    {
     "data": {
      "text/plain": [
       "array([[ 0.,  1.,  2.,  3.,  4.,  1.],\n",
       "       [ 5.,  6.,  7.,  8.,  9.,  1.],\n",
       "       [10., 11., 12., 13., 14.,  1.],\n",
       "       [15., 16., 17., 18., 19.,  1.],\n",
       "       [20., 21., 22., 23., 24.,  1.],\n",
       "       [25., 26., 27., 28., 29.,  1.],\n",
       "       [30., 31., 32., 33., 34.,  1.],\n",
       "       [35., 36., 37., 38., 39.,  1.],\n",
       "       [40., 41., 42., 43., 44.,  1.],\n",
       "       [45., 46., 47., 48., 49.,  1.]])"
      ]
     },
     "execution_count": 12,
     "metadata": {},
     "output_type": "execute_result"
    }
   ],
   "source": [
    "bias = np.ones(10)\n",
    "np.column_stack((dataset,bias))"
   ]
  },
  {
   "cell_type": "code",
   "execution_count": 13,
   "metadata": {},
   "outputs": [
    {
     "data": {
      "text/plain": [
       "array([[[  0,   0,   0],\n",
       "        [  1,   2,   3],\n",
       "        [  2,   4,   6],\n",
       "        [  3,   6,   9],\n",
       "        [  4,   8,  12]],\n",
       "\n",
       "       [[  5,  10,  15],\n",
       "        [  6,  12,  18],\n",
       "        [  7,  14,  21],\n",
       "        [  8,  16,  24],\n",
       "        [  9,  18,  27]],\n",
       "\n",
       "       [[ 10,  20,  30],\n",
       "        [ 11,  22,  33],\n",
       "        [ 12,  24,  36],\n",
       "        [ 13,  26,  39],\n",
       "        [ 14,  28,  42]],\n",
       "\n",
       "       [[ 15,  30,  45],\n",
       "        [ 16,  32,  48],\n",
       "        [ 17,  34,  51],\n",
       "        [ 18,  36,  54],\n",
       "        [ 19,  38,  57]],\n",
       "\n",
       "       [[ 20,  40,  60],\n",
       "        [ 21,  42,  63],\n",
       "        [ 22,  44,  66],\n",
       "        [ 23,  46,  69],\n",
       "        [ 24,  48,  72]],\n",
       "\n",
       "       [[ 25,  50,  75],\n",
       "        [ 26,  52,  78],\n",
       "        [ 27,  54,  81],\n",
       "        [ 28,  56,  84],\n",
       "        [ 29,  58,  87]],\n",
       "\n",
       "       [[ 30,  60,  90],\n",
       "        [ 31,  62,  93],\n",
       "        [ 32,  64,  96],\n",
       "        [ 33,  66,  99],\n",
       "        [ 34,  68, 102]],\n",
       "\n",
       "       [[ 35,  70, 105],\n",
       "        [ 36,  72, 108],\n",
       "        [ 37,  74, 111],\n",
       "        [ 38,  76, 114],\n",
       "        [ 39,  78, 117]],\n",
       "\n",
       "       [[ 40,  80, 120],\n",
       "        [ 41,  82, 123],\n",
       "        [ 42,  84, 126],\n",
       "        [ 43,  86, 129],\n",
       "        [ 44,  88, 132]],\n",
       "\n",
       "       [[ 45,  90, 135],\n",
       "        [ 46,  92, 138],\n",
       "        [ 47,  94, 141],\n",
       "        [ 48,  96, 144],\n",
       "        [ 49,  98, 147]]])"
      ]
     },
     "execution_count": 13,
     "metadata": {},
     "output_type": "execute_result"
    }
   ],
   "source": [
    "np.dstack((dataset*1,dataset*2,dataset*3))"
   ]
  },
  {
   "cell_type": "code",
   "execution_count": 16,
   "metadata": {},
   "outputs": [
    {
     "data": {
      "text/plain": [
       "array([[ 0,  1,  2,  1,  3,  4],\n",
       "       [ 5,  6,  7,  1,  8,  9],\n",
       "       [10, 11, 12,  1, 13, 14],\n",
       "       [15, 16, 17,  1, 18, 19],\n",
       "       [20, 21, 22,  1, 23, 24],\n",
       "       [25, 26, 27,  1, 28, 29],\n",
       "       [30, 31, 32,  1, 33, 34],\n",
       "       [35, 36, 37,  1, 38, 39],\n",
       "       [40, 41, 42,  1, 43, 44],\n",
       "       [45, 46, 47,  1, 48, 49]])"
      ]
     },
     "execution_count": 16,
     "metadata": {},
     "output_type": "execute_result"
    }
   ],
   "source": [
    "np.insert(dataset, 3, bias, axis=1)"
   ]
  },
  {
   "cell_type": "code",
   "execution_count": 17,
   "metadata": {},
   "outputs": [
    {
     "data": {
      "text/plain": [
       "array([[ 0,  1,  2,  0,  1,  2,  3,  4,  3,  4],\n",
       "       [ 5,  6,  7,  5,  6,  7,  8,  9,  8,  9],\n",
       "       [10, 11, 12, 10, 11, 12, 13, 14, 13, 14],\n",
       "       [15, 16, 17, 15, 16, 17, 18, 19, 18, 19],\n",
       "       [20, 21, 22, 20, 21, 22, 23, 24, 23, 24],\n",
       "       [25, 26, 27, 25, 26, 27, 28, 29, 28, 29],\n",
       "       [30, 31, 32, 30, 31, 32, 33, 34, 33, 34],\n",
       "       [35, 36, 37, 35, 36, 37, 38, 39, 38, 39],\n",
       "       [40, 41, 42, 40, 41, 42, 43, 44, 43, 44],\n",
       "       [45, 46, 47, 45, 46, 47, 48, 49, 48, 49]])"
      ]
     },
     "execution_count": 17,
     "metadata": {},
     "output_type": "execute_result"
    }
   ],
   "source": [
    "np.insert(dataset, 3, dataset.T, axis=1)"
   ]
  },
  {
   "cell_type": "code",
   "execution_count": 18,
   "metadata": {},
   "outputs": [
    {
     "data": {
      "text/plain": [
       "array([[ 0,  1,  2,  3,  4],\n",
       "       [ 5,  6,  7,  8,  9],\n",
       "       [10, 11, 12, 13, 14],\n",
       "       [ 1,  1,  1,  1,  1],\n",
       "       [15, 16, 17, 18, 19],\n",
       "       [20, 21, 22, 23, 24],\n",
       "       [25, 26, 27, 28, 29],\n",
       "       [30, 31, 32, 33, 34],\n",
       "       [35, 36, 37, 38, 39],\n",
       "       [40, 41, 42, 43, 44],\n",
       "       [45, 46, 47, 48, 49]])"
      ]
     },
     "execution_count": 18,
     "metadata": {},
     "output_type": "execute_result"
    }
   ],
   "source": [
    "np.insert(dataset, 3, np.ones(5), axis=0)"
   ]
  },
  {
   "cell_type": "code",
   "execution_count": null,
   "metadata": {},
   "outputs": [],
   "source": []
  }
 ],
 "metadata": {
  "kernelspec": {
   "display_name": "Python 3",
   "language": "python",
   "name": "python3"
  },
  "language_info": {
   "codemirror_mode": {
    "name": "ipython",
    "version": 3
   },
   "file_extension": ".py",
   "mimetype": "text/x-python",
   "name": "python",
   "nbconvert_exporter": "python",
   "pygments_lexer": "ipython3",
   "version": "3.6.5"
  }
 },
 "nbformat": 4,
 "nbformat_minor": 2
}
