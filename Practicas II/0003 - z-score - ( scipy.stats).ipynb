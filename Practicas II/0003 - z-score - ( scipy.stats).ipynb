{
 "cells": [
  {
   "cell_type": "markdown",
   "metadata": {},
   "source": [
    "# z-score"
   ]
  },
  {
   "cell_type": "code",
   "execution_count": 2,
   "metadata": {},
   "outputs": [],
   "source": [
    "import numpy as np\n",
    "import matplotlib.pyplot as plt\n",
    "from scipy import stats\n",
    "\n",
    "classscore = np.random.normal(50, 10, 60).round()"
   ]
  },
  {
   "cell_type": "code",
   "execution_count": 3,
   "metadata": {},
   "outputs": [
    {
     "data": {
      "text/plain": [
       "array([55., 59., 46., 43., 50., 77., 62., 54., 50., 67., 39., 46., 61.,\n",
       "       71., 41., 41., 64., 23., 33., 57., 54., 36., 42., 65., 43., 35.,\n",
       "       51., 53., 40., 63., 45., 52., 57., 48., 62., 52., 58., 26., 40.,\n",
       "       62., 71., 61., 54., 54., 62., 58., 60., 61., 43., 53., 63., 60.,\n",
       "       47., 43., 52., 50., 53., 51., 40., 51.])"
      ]
     },
     "execution_count": 3,
     "metadata": {},
     "output_type": "execute_result"
    }
   ],
   "source": [
    "classscore"
   ]
  },
  {
   "cell_type": "code",
   "execution_count": 4,
   "metadata": {},
   "outputs": [
    {
     "name": "stderr",
     "output_type": "stream",
     "text": [
      "D:\\ProgramData\\lib\\site-packages\\matplotlib\\axes\\_axes.py:6462: UserWarning: The 'normed' kwarg is deprecated, and has been replaced by the 'density' kwarg.\n",
      "  warnings.warn(\"The 'normed' kwarg is deprecated, and has been \"\n"
     ]
    },
    {
     "data": {
      "image/png": "[encoded data removed]",
      "text/plain": [
       "<Figure size 432x288 with 1 Axes>"
      ]
     },
     "metadata": {},
     "output_type": "display_data"
    }
   ],
   "source": [
    "plt.hist(classscore, 30, normed=True) #Number of breaks is 30\n",
    "plt.show()"
   ]
  },
  {
   "cell_type": "code",
   "execution_count": 5,
   "metadata": {},
   "outputs": [
    {
     "data": {
      "text/plain": [
       "array([ 0.29396835,  0.66529678, -0.54152064, -0.82001697, -0.1701922 ,\n",
       "        2.33627475,  0.94379311,  0.20113624, -0.1701922 ,  1.40795366,\n",
       "       -1.1913454 , -0.54152064,  0.850961  ,  1.7792821 , -1.00568119,\n",
       "       -1.00568119,  1.12945733, -2.67665916, -1.74833806,  0.47963257,\n",
       "        0.20113624, -1.46984173, -0.91284908,  1.22228944, -0.82001697,\n",
       "       -1.56267384, -0.07736009,  0.10830413, -1.0985133 ,  1.03662522,\n",
       "       -0.63435275,  0.01547202,  0.47963257, -0.35585642,  0.94379311,\n",
       "        0.01547202,  0.57246467, -2.39816283, -1.0985133 ,  0.94379311,\n",
       "        1.7792821 ,  0.850961  ,  0.20113624,  0.20113624,  0.94379311,\n",
       "        0.57246467,  0.75812889,  0.850961  , -0.82001697,  0.10830413,\n",
       "        1.03662522,  0.75812889, -0.44868853, -0.82001697,  0.01547202,\n",
       "       -0.1701922 ,  0.10830413, -0.07736009, -1.0985133 , -0.07736009])"
      ]
     },
     "execution_count": 5,
     "metadata": {},
     "output_type": "execute_result"
    }
   ],
   "source": [
    "# The score of each student can be converted to a z-score using the following functions:\n",
    "\n",
    "stats.zscore(classscore)"
   ]
  },
  {
   "cell_type": "code",
   "execution_count": 6,
   "metadata": {},
   "outputs": [
    {
     "data": {
      "text/plain": [
       "0.03044301404947758"
      ]
     },
     "execution_count": 6,
     "metadata": {},
     "output_type": "execute_result"
    }
   ],
   "source": [
    "prob = 1 - stats.norm.cdf(1.87432221)\n",
    "prob"
   ]
  },
  {
   "cell_type": "code",
   "execution_count": 7,
   "metadata": {},
   "outputs": [
    {
     "data": {
      "text/plain": [
       "-1.5547735945968535"
      ]
     },
     "execution_count": 7,
     "metadata": {},
     "output_type": "execute_result"
    }
   ],
   "source": [
    "stats.norm.ppf(0.06)"
   ]
  },
  {
   "cell_type": "code",
   "execution_count": 8,
   "metadata": {},
   "outputs": [
    {
     "data": {
      "text/plain": [
       "1.5007857695163118"
      ]
     },
     "execution_count": 8,
     "metadata": {},
     "output_type": "execute_result"
    }
   ],
   "source": [
    "zscore = ( 68 - classscore.mean() ) / classscore.std()\n",
    "zscore"
   ]
  },
  {
   "cell_type": "code",
   "execution_count": 9,
   "metadata": {},
   "outputs": [
    {
     "data": {
      "text/plain": [
       "0.0667054902536639"
      ]
     },
     "execution_count": 9,
     "metadata": {},
     "output_type": "execute_result"
    }
   ],
   "source": [
    "prob = 1 - stats.norm.cdf(zscore)\n",
    "prob"
   ]
  },
  {
   "cell_type": "markdown",
   "metadata": {},
   "source": [
    "## A confidence interval"
   ]
  },
  {
   "cell_type": "markdown",
   "metadata": {},
   "source": [
    "confidence interval is a type of interval statistics for a population parameter. The\n",
    "confidence interval helps in determining the interval at which the population mean\n",
    "can be defined."
   ]
  },
  {
   "cell_type": "code",
   "execution_count": 10,
   "metadata": {},
   "outputs": [],
   "source": [
    "height_data = np.array([ 186.0, 180.0, 195.0, 189.0, 191.0,\n",
    "177.0, 161.0, 177.0, 192.0, 182.0, 185.0, 192.0,\n",
    "173.0, 172.0, 191.0, 184.0, 193.0, 182.0, 190.0, 185.0, 181.0,\n",
    "188.0, 179.0, 188.0,\n",
    "170.0, 179.0, 180.0, 189.0, 188.0, 185.0, 170.0, 197.0, 187.0,\n",
    "182.0, 173.0, 179.0,\n",
    "184.0, 177.0, 190.0, 174.0, 203.0, 206.0, 173.0, 169.0, 178.0,\n",
    "201.0, 198.0, 166.0,\n",
    "171.0, 180.0])"
   ]
  },
  {
   "cell_type": "code",
   "execution_count": 11,
   "metadata": {},
   "outputs": [
    {
     "name": "stderr",
     "output_type": "stream",
     "text": [
      "D:\\ProgramData\\lib\\site-packages\\matplotlib\\axes\\_axes.py:6462: UserWarning: The 'normed' kwarg is deprecated, and has been replaced by the 'density' kwarg.\n",
      "  warnings.warn(\"The 'normed' kwarg is deprecated, and has been \"\n"
     ]
    },
    {
     "data": {
      "image/png": "[encoded data removed]",
      "text/plain": [
       "<Figure size 432x288 with 1 Axes>"
      ]
     },
     "metadata": {},
     "output_type": "display_data"
    }
   ],
   "source": [
    "plt.hist(height_data, 30, normed=True)\n",
    "plt.show()"
   ]
  },
  {
   "cell_type": "code",
   "execution_count": 12,
   "metadata": {},
   "outputs": [
    {
     "data": {
      "text/plain": [
       "183.24"
      ]
     },
     "execution_count": 12,
     "metadata": {},
     "output_type": "execute_result"
    }
   ],
   "source": [
    "height_data.mean()"
   ]
  },
  {
   "cell_type": "markdown",
   "metadata": {},
   "source": [
    "### Calculate the standard error of the mean"
   ]
  },
  {
   "cell_type": "code",
   "execution_count": 13,
   "metadata": {},
   "outputs": [
    {
     "data": {
      "text/plain": [
       "1.3787187190005248"
      ]
     },
     "execution_count": 13,
     "metadata": {},
     "output_type": "execute_result"
    }
   ],
   "source": [
    "stats.sem(height_data)"
   ]
  },
  {
   "cell_type": "code",
   "execution_count": 26,
   "metadata": {},
   "outputs": [
    {
     "data": {
      "text/plain": [
       "9.651031033003674"
      ]
     },
     "execution_count": 26,
     "metadata": {},
     "output_type": "execute_result"
    }
   ],
   "source": [
    "np.std(height_data)"
   ]
  },
  {
   "cell_type": "markdown",
   "metadata": {},
   "source": [
    "So, there is a standard error of the mean of 1.38 cm. The lower and upper limit of the confidence interval can be determined by using the following formula:\n",
    "Upper/Lower limit = mean(height) + / - sigma * SEmean(x)\n",
    "\n",
    "- For lower limit: 183.24 + (1.96 * 1.38) = 185.94\n",
    "- For upper limit: 183.24 - (1.96*1.38) = 180.53"
   ]
  },
  {
   "cell_type": "markdown",
   "metadata": {},
   "source": [
    "* A 1.96 standard deviation covers 95% of area in the normal distribution."
   ]
  }
 ],
 "metadata": {
  "kernelspec": {
   "display_name": "Python 3",
   "language": "python",
   "name": "python3"
  },
  "language_info": {
   "codemirror_mode": {
    "name": "ipython",
    "version": 3
   },
   "file_extension": ".py",
   "mimetype": "text/x-python",
   "name": "python",
   "nbconvert_exporter": "python",
   "pygments_lexer": "ipython3",
   "version": "3.6.5"
  }
 },
 "nbformat": 4,
 "nbformat_minor": 2
}
