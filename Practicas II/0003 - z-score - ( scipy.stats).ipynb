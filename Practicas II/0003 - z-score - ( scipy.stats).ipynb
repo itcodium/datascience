{
 "cells": [
  {
   "cell_type": "markdown",
   "metadata": {},
   "source": [
    "# z-score"
   ]
  },
  {
   "cell_type": "code",
   "execution_count": 10,
   "metadata": {},
   "outputs": [],
   "source": [
    "import numpy as np\n",
    "import matplotlib.pyplot as plt\n",
    "from scipy import stats\n",
    "\n",
    "classscore = np.random.normal(50, 10, 60).round()"
   ]
  },
  {
   "cell_type": "code",
   "execution_count": 11,
   "metadata": {},
   "outputs": [
    {
     "data": {
      "text/plain": [
       "array([68., 55., 43., 45., 32., 50., 25., 49., 57., 48., 52., 41., 56.,\n",
       "       64., 39., 50., 47., 48., 29., 43., 32., 57., 61., 46., 62., 53.,\n",
       "       75., 58., 53., 23., 42., 48., 42., 46., 18., 51., 47., 50., 45.,\n",
       "       54., 47., 49., 49., 42., 55., 34., 47., 42., 49., 48., 44., 43.,\n",
       "       53., 58., 56., 57., 50., 45., 68., 59.])"
      ]
     },
     "execution_count": 11,
     "metadata": {},
     "output_type": "execute_result"
    }
   ],
   "source": [
    "classscore"
   ]
  },
  {
   "cell_type": "code",
   "execution_count": 12,
   "metadata": {},
   "outputs": [
    {
     "name": "stderr",
     "output_type": "stream",
     "text": [
      "C:\\Users\\phaddad\\AppData\\Local\\Continuum\\anaconda3\\lib\\site-packages\\matplotlib\\axes\\_axes.py:6571: UserWarning: The 'normed' kwarg is deprecated, and has been replaced by the 'density' kwarg.\n",
      "  warnings.warn(\"The 'normed' kwarg is deprecated, and has been \"\n"
     ]
    },
    {
     "data": {
      "image/png": "[encoded data removed]",
      "text/plain": [
       "<Figure size 432x288 with 1 Axes>"
      ]
     },
     "metadata": {
      "needs_background": "light"
     },
     "output_type": "display_data"
    }
   ],
   "source": [
    "plt.hist(classscore, 30, normed=True) #Number of breaks is 30\n",
    "plt.show()"
   ]
  },
  {
   "cell_type": "code",
   "execution_count": 13,
   "metadata": {},
   "outputs": [
    {
     "data": {
      "text/plain": [
       "array([ 1.87432221,  0.63641254, -0.50627332, -0.31582567, -1.55373535,\n",
       "        0.16029343, -2.2203021 ,  0.06506961,  0.82686018, -0.03015421,\n",
       "        0.35074107, -0.69672096,  0.73163636,  1.49342693, -0.8871686 ,\n",
       "        0.16029343, -0.12537803, -0.03015421, -1.83940681, -0.50627332,\n",
       "       -1.55373535,  0.82686018,  1.20775546, -0.22060185,  1.30297929,\n",
       "        0.4459649 ,  2.54088896,  0.922084  ,  0.4459649 , -2.41074974,\n",
       "       -0.60149714, -0.03015421, -0.60149714, -0.22060185, -2.88686884,\n",
       "        0.25551725, -0.12537803,  0.16029343, -0.31582567,  0.54118872,\n",
       "       -0.12537803,  0.06506961,  0.06506961, -0.60149714,  0.63641254,\n",
       "       -1.36328771, -0.12537803, -0.60149714,  0.06506961, -0.03015421,\n",
       "       -0.41104949, -0.50627332,  0.4459649 ,  0.922084  ,  0.73163636,\n",
       "        0.82686018,  0.16029343, -0.31582567,  1.87432221,  1.01730782])"
      ]
     },
     "execution_count": 13,
     "metadata": {},
     "output_type": "execute_result"
    }
   ],
   "source": [
    "# The score of each student can be converted to a z-score using the following functions:\n",
    "\n",
    "stats.zscore(classscore)"
   ]
  },
  {
   "cell_type": "code",
   "execution_count": 14,
   "metadata": {},
   "outputs": [
    {
     "data": {
      "text/plain": [
       "0.03044301404947758"
      ]
     },
     "execution_count": 14,
     "metadata": {},
     "output_type": "execute_result"
    }
   ],
   "source": [
    "prob = 1 - stats.norm.cdf(1.87432221)\n",
    "prob"
   ]
  },
  {
   "cell_type": "code",
   "execution_count": 20,
   "metadata": {},
   "outputs": [
    {
     "data": {
      "text/plain": [
       "-1.5547735945968535"
      ]
     },
     "execution_count": 20,
     "metadata": {},
     "output_type": "execute_result"
    }
   ],
   "source": [
    "stats.norm.ppf(0.06)"
   ]
  },
  {
   "cell_type": "code",
   "execution_count": 21,
   "metadata": {},
   "outputs": [
    {
     "data": {
      "text/plain": [
       "1.874322212613611"
      ]
     },
     "execution_count": 21,
     "metadata": {},
     "output_type": "execute_result"
    }
   ],
   "source": [
    "zscore = ( 68 - classscore.mean() ) / classscore.std()\n",
    "zscore"
   ]
  },
  {
   "cell_type": "code",
   "execution_count": 22,
   "metadata": {},
   "outputs": [
    {
     "data": {
      "text/plain": [
       "0.03044301386946846"
      ]
     },
     "execution_count": 22,
     "metadata": {},
     "output_type": "execute_result"
    }
   ],
   "source": [
    "prob = 1 - stats.norm.cdf(zscore)\n",
    "prob"
   ]
  },
  {
   "cell_type": "code",
   "execution_count": null,
   "metadata": {},
   "outputs": [],
   "source": []
  }
 ],
 "metadata": {
  "kernelspec": {
   "display_name": "Python 3",
   "language": "python",
   "name": "python3"
  },
  "language_info": {
   "codemirror_mode": {
    "name": "ipython",
    "version": 3
   },
   "file_extension": ".py",
   "mimetype": "text/x-python",
   "name": "python",
   "nbconvert_exporter": "python",
   "pygments_lexer": "ipython3",
   "version": "3.7.0"
  }
 },
 "nbformat": 4,
 "nbformat_minor": 2
}
