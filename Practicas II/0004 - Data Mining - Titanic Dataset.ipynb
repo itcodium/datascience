{
 "cells": [
  {
   "cell_type": "markdown",
   "metadata": {},
   "source": [
    "# Data Mining"
   ]
  },
  {
   "cell_type": "markdown",
   "metadata": {},
   "source": [
    "Data mining is the process of exploring data and finding patterns in it using machine learning, statistics, and database systems.\n",
    "\n",
    "- How to structure your analysis for data mining\n",
    "- How to present your analysis\n",
    "- How to perform data mining on a Titanic survivors dataset"
   ]
  },
  {
   "cell_type": "markdown",
   "metadata": {},
   "source": [
    "### These are the questions that we'll answer:\n",
    "\n",
    "- Which passenger class has the maximum number of survivors?\n",
    "- What is the distribution, based on gender, of the survivors among the different classes?\n",
    "- What is the distribution of the nonsurvivors among classes that have relatives aboard the ship?\n",
    "- What is the survival percentage among different age groups?\n"
   ]
  },
  {
   "cell_type": "code",
   "execution_count": 1,
   "metadata": {},
   "outputs": [],
   "source": [
    "import pandas as pd\n",
    "import pylab as plt\n",
    "import numpy as np"
   ]
  },
  {
   "cell_type": "code",
   "execution_count": 16,
   "metadata": {},
   "outputs": [
    {
     "data": {
      "text/html": [
       "<div>\n",
       "<style scoped>\n",
       "    .dataframe tbody tr th:only-of-type {\n",
       "        vertical-align: middle;\n",
       "    }\n",
       "\n",
       "    .dataframe tbody tr th {\n",
       "        vertical-align: top;\n",
       "    }\n",
       "\n",
       "    .dataframe thead th {\n",
       "        text-align: right;\n",
       "    }\n",
       "</style>\n",
       "<table border=\"1\" class=\"dataframe\">\n",
       "  <thead>\n",
       "    <tr style=\"text-align: right;\">\n",
       "      <th></th>\n",
       "      <th>PassengerId</th>\n",
       "      <th>Survived</th>\n",
       "      <th>Pclass</th>\n",
       "      <th>Name</th>\n",
       "      <th>Sex</th>\n",
       "      <th>Age</th>\n",
       "      <th>SibSp</th>\n",
       "      <th>Parch</th>\n",
       "      <th>Ticket</th>\n",
       "      <th>Fare</th>\n",
       "      <th>Cabin</th>\n",
       "      <th>Embarked</th>\n",
       "    </tr>\n",
       "  </thead>\n",
       "  <tbody>\n",
       "    <tr>\n",
       "      <th>0</th>\n",
       "      <td>1</td>\n",
       "      <td>0</td>\n",
       "      <td>3</td>\n",
       "      <td>Braund, Mr. Owen Harris</td>\n",
       "      <td>male</td>\n",
       "      <td>22.0</td>\n",
       "      <td>1</td>\n",
       "      <td>0</td>\n",
       "      <td>A/5 21171</td>\n",
       "      <td>7.2500</td>\n",
       "      <td>NaN</td>\n",
       "      <td>S</td>\n",
       "    </tr>\n",
       "    <tr>\n",
       "      <th>1</th>\n",
       "      <td>2</td>\n",
       "      <td>1</td>\n",
       "      <td>1</td>\n",
       "      <td>Cumings, Mrs. John Bradley (Florence Briggs Th...</td>\n",
       "      <td>female</td>\n",
       "      <td>38.0</td>\n",
       "      <td>1</td>\n",
       "      <td>0</td>\n",
       "      <td>PC 17599</td>\n",
       "      <td>71.2833</td>\n",
       "      <td>C85</td>\n",
       "      <td>C</td>\n",
       "    </tr>\n",
       "    <tr>\n",
       "      <th>2</th>\n",
       "      <td>3</td>\n",
       "      <td>1</td>\n",
       "      <td>3</td>\n",
       "      <td>Heikkinen, Miss. Laina</td>\n",
       "      <td>female</td>\n",
       "      <td>26.0</td>\n",
       "      <td>0</td>\n",
       "      <td>0</td>\n",
       "      <td>STON/O2. 3101282</td>\n",
       "      <td>7.9250</td>\n",
       "      <td>NaN</td>\n",
       "      <td>S</td>\n",
       "    </tr>\n",
       "    <tr>\n",
       "      <th>3</th>\n",
       "      <td>4</td>\n",
       "      <td>1</td>\n",
       "      <td>1</td>\n",
       "      <td>Futrelle, Mrs. Jacques Heath (Lily May Peel)</td>\n",
       "      <td>female</td>\n",
       "      <td>35.0</td>\n",
       "      <td>1</td>\n",
       "      <td>0</td>\n",
       "      <td>113803</td>\n",
       "      <td>53.1000</td>\n",
       "      <td>C123</td>\n",
       "      <td>S</td>\n",
       "    </tr>\n",
       "    <tr>\n",
       "      <th>4</th>\n",
       "      <td>5</td>\n",
       "      <td>0</td>\n",
       "      <td>3</td>\n",
       "      <td>Allen, Mr. William Henry</td>\n",
       "      <td>male</td>\n",
       "      <td>35.0</td>\n",
       "      <td>0</td>\n",
       "      <td>0</td>\n",
       "      <td>373450</td>\n",
       "      <td>8.0500</td>\n",
       "      <td>NaN</td>\n",
       "      <td>S</td>\n",
       "    </tr>\n",
       "  </tbody>\n",
       "</table>\n",
       "</div>"
      ],
      "text/plain": [
       "   PassengerId  Survived  Pclass  \\\n",
       "0            1         0       3   \n",
       "1            2         1       1   \n",
       "2            3         1       3   \n",
       "3            4         1       1   \n",
       "4            5         0       3   \n",
       "\n",
       "                                                Name     Sex   Age  SibSp  \\\n",
       "0                            Braund, Mr. Owen Harris    male  22.0      1   \n",
       "1  Cumings, Mrs. John Bradley (Florence Briggs Th...  female  38.0      1   \n",
       "2                             Heikkinen, Miss. Laina  female  26.0      0   \n",
       "3       Futrelle, Mrs. Jacques Heath (Lily May Peel)  female  35.0      1   \n",
       "4                           Allen, Mr. William Henry    male  35.0      0   \n",
       "\n",
       "   Parch            Ticket     Fare Cabin Embarked  \n",
       "0      0         A/5 21171   7.2500   NaN        S  \n",
       "1      0          PC 17599  71.2833   C85        C  \n",
       "2      0  STON/O2. 3101282   7.9250   NaN        S  \n",
       "3      0            113803  53.1000  C123        S  \n",
       "4      0            373450   8.0500   NaN        S  "
      ]
     },
     "execution_count": 16,
     "metadata": {},
     "output_type": "execute_result"
    }
   ],
   "source": [
    "df = pd.read_csv('../Datasets/titanic/train.csv')\n",
    "df[0:5]\n"
   ]
  },
  {
   "cell_type": "code",
   "execution_count": 18,
   "metadata": {},
   "outputs": [
    {
     "name": "stdout",
     "output_type": "stream",
     "text": [
      "Class:  False    891\n",
      "Name: Pclass, dtype: int64\n",
      "Survived:  False    891\n",
      "Name: Survived, dtype: int64\n"
     ]
    }
   ],
   "source": [
    "pclass= df['Pclass'].isnull().value_counts()\n",
    "survived=df['Survived'].isnull().value_counts()\n",
    "\n",
    "print(\"Class: \",pclass)\n",
    "print(\"Survived: \", survived)\n"
   ]
  },
  {
   "cell_type": "code",
   "execution_count": 19,
   "metadata": {},
   "outputs": [
    {
     "data": {
      "text/plain": [
       "Pclass\n",
       "1    136\n",
       "2     87\n",
       "3    119\n",
       "Name: Survived, dtype: int64"
      ]
     },
     "execution_count": 19,
     "metadata": {},
     "output_type": "execute_result"
    }
   ],
   "source": [
    "#Passengers survived in each class\n",
    "\n",
    "survivors = df.groupby('Pclass')['Survived'].agg(sum)\n",
    "survivors"
   ]
  },
  {
   "cell_type": "code",
   "execution_count": 20,
   "metadata": {},
   "outputs": [],
   "source": [
    "#Total Passengers in each class\n",
    "\n",
    "total_passengers = df.groupby('Pclass')['PassengerId'].count()\n",
    "survivor_percentage = survivors / total_passengers"
   ]
  },
  {
   "cell_type": "code",
   "execution_count": 21,
   "metadata": {},
   "outputs": [
    {
     "data": {
      "text/plain": [
       "Pclass\n",
       "1    216\n",
       "2    184\n",
       "3    491\n",
       "Name: PassengerId, dtype: int64"
      ]
     },
     "execution_count": 21,
     "metadata": {},
     "output_type": "execute_result"
    }
   ],
   "source": [
    "total_passengers"
   ]
  },
  {
   "cell_type": "code",
   "execution_count": 22,
   "metadata": {},
   "outputs": [
    {
     "data": {
      "text/plain": [
       "Pclass\n",
       "1    0.629630\n",
       "2    0.472826\n",
       "3    0.242363\n",
       "dtype: float64"
      ]
     },
     "execution_count": 22,
     "metadata": {},
     "output_type": "execute_result"
    }
   ],
   "source": [
    "survivor_percentage"
   ]
  },
  {
   "cell_type": "markdown",
   "metadata": {},
   "source": [
    "### Plotting the Total number of survivors"
   ]
  },
  {
   "cell_type": "code",
   "execution_count": 35,
   "metadata": {},
   "outputs": [
    {
     "data": {
      "image/png": "[encoded data removed]",
      "text/plain": [
       "<Figure size 432x288 with 1 Axes>"
      ]
     },
     "metadata": {},
     "output_type": "display_data"
    }
   ],
   "source": [
    "fig = plt.figure()\n",
    "ax = fig.add_subplot(111)\n",
    "rect = ax.bar(survivors.index.values.tolist(),survivors, color='blue', width=0.5)\n",
    "ax.set_ylabel('No. of survivors')\n",
    "ax.set_title('Total number of survivors based on class')\n",
    "#xTickMarks = survivors.index.values.tolist()\n",
    "#ax.set_xticks(survivors.index.values.tolist())\n",
    "#xtickNames = ax.set_xticklabels(xTickMarks)\n",
    "#plt.setp(xtickNames, fontsize=20)\n",
    "plt.show()"
   ]
  },
  {
   "cell_type": "markdown",
   "metadata": {},
   "source": [
    "### Plotting the percentage of survivors in each class"
   ]
  },
  {
   "cell_type": "code",
   "execution_count": 39,
   "metadata": {},
   "outputs": [
    {
     "data": {
      "image/png": "[encoded data removed]",
      "text/plain": [
       "<Figure size 432x288 with 1 Axes>"
      ]
     },
     "metadata": {},
     "output_type": "display_data"
    }
   ],
   "source": [
    "fig = plt.figure()\n",
    "ax = fig.add_subplot(111)\n",
    "rect = ax.bar(survivor_percentage.index.values.tolist(),survivor_percentage, color='blue', width=0.5)\n",
    "ax.set_ylabel('Survivor Percentage')\n",
    "ax.set_title('Percentage of survivors based on class')\n",
    "xTickMarks = survivors.index.values.tolist()\n",
    "ax.set_xticks(survivors.index.values.tolist())\n",
    "xtickNames = ax.set_xticklabels(xTickMarks)\n",
    "plt.setp(xtickNames, fontsize=20)\n",
    "plt.show()"
   ]
  },
  {
   "cell_type": "markdown",
   "metadata": {},
   "source": [
    " ### What is the distribution of survivors based on gender among the various classes?"
   ]
  },
  {
   "cell_type": "code",
   "execution_count": 41,
   "metadata": {},
   "outputs": [
    {
     "data": {
      "image/png": "[encoded data removed]",
      "text/plain": [
       "<Figure size 432x288 with 1 Axes>"
      ]
     },
     "metadata": {},
     "output_type": "display_data"
    }
   ],
   "source": [
    "#Checking for any null values\n",
    "df['Sex'].isnull().value_counts()\n",
    "\n",
    "male_survivors = df[df['Sex'] == 'male'].groupby('Pclass')['Survived'].agg(sum)\n",
    "\n",
    "#Total Male Passengers in each class\n",
    "male_total_passengers = df[df['Sex'] == 'male'].groupby('Pclass')['PassengerId'].count()\n",
    "male_survivor_percentage = male_survivors / male_total_passengers\n",
    "\n",
    "# Female Passengers survived in each class\n",
    "female_survivors = df[df['Sex'] == 'female'].groupby('Pclass')['Survived'].agg(sum)\n",
    "\n",
    "#Total Female Passengers in each class\n",
    "female_total_passengers = df[df['Sex'] == 'female'].groupby('Pclass')['PassengerId'].count()\n",
    "female_survivor_percentage = female_survivors / female_total_passengers\n",
    "\n",
    "#Plotting the total passengers who survived based on Gender\n",
    "fig = plt.figure()\n",
    "ax = fig.add_subplot(111)\n",
    "index = np.arange(male_survivors.count())\n",
    "bar_width = 0.35\n",
    "rect1 = ax.bar(index, male_survivors, bar_width, color='blue',label='Men')\n",
    "rect2 = ax.bar(index + bar_width, female_survivors, bar_width,color='y', label='Women')\n",
    "\n",
    "\n",
    "ax.set_ylabel('Survivor Numbers')\n",
    "ax.set_title('Male and Female survivors based on class')\n",
    "xTickMarks = male_survivors.index.values.tolist()\n",
    "ax.set_xticks(index + bar_width)\n",
    "xtickNames = ax.set_xticklabels(xTickMarks)\n",
    "plt.setp(xtickNames, fontsize=20)\n",
    "plt.legend()\n",
    "plt.tight_layout()\n",
    "plt.show()\n"
   ]
  },
  {
   "cell_type": "markdown",
   "metadata": {},
   "source": [
    "### Plotting the percentage of passengers who survived based on Gender"
   ]
  },
  {
   "cell_type": "code",
   "execution_count": 43,
   "metadata": {},
   "outputs": [
    {
     "data": {
      "image/png": "[encoded data removed]",
      "text/plain": [
       "<Figure size 432x288 with 1 Axes>"
      ]
     },
     "metadata": {},
     "output_type": "display_data"
    }
   ],
   "source": [
    "fig = plt.figure()\n",
    "ax = fig.add_subplot(111)\n",
    "index = np.arange(male_survivor_percentage.count())\n",
    "bar_width = 0.35\n",
    "rect1 = ax.bar(index, male_survivor_percentage, bar_width,color='blue', label='Men')\n",
    "rect2 = ax.bar(index + bar_width, female_survivor_percentage,bar_width, color='y', label='Women')\n",
    "ax.set_ylabel('Survivor Percentage')\n",
    "\n",
    "ax.set_title('Percentage Male and Female of survivors based on class')\n",
    "xTickMarks = male_survivor_percentage.index.values.tolist()\n",
    "ax.set_xticks(index + bar_width)\n",
    "xtickNames = ax.set_xticklabels(xTickMarks)\n",
    "plt.setp(xtickNames, fontsize=20)\n",
    "plt.legend()\n",
    "plt.tight_layout()\n",
    "plt.show()"
   ]
  },
  {
   "cell_type": "markdown",
   "metadata": {},
   "source": [
    "### What is the distribution of nonsurvivors among the various classes who have family aboard the ship?"
   ]
  },
  {
   "cell_type": "code",
   "execution_count": 46,
   "metadata": {},
   "outputs": [
    {
     "data": {
      "image/png": "[encoded data removed]",
      "text/plain": [
       "<Figure size 432x288 with 1 Axes>"
      ]
     },
     "metadata": {},
     "output_type": "display_data"
    }
   ],
   "source": [
    "#Checking for the null values\n",
    "df['SibSp'].isnull().value_counts()\n",
    "\n",
    "#Checking for the null values\n",
    "df['Parch'].isnull().value_counts()\n",
    "\n",
    "#Total number of non-survivors in each class\n",
    "non_survivors = df[(df['SibSp'] > 0) | (df['Parch'] > 0) & (df['Survived'] == 0)].groupby('Pclass')['Survived'].agg('count')\n",
    "\n",
    "#Total passengers in each class\n",
    "total_passengers = df.groupby('Pclass')['PassengerId'].count()\n",
    "non_survivor_percentage = non_survivors / total_passengers\n",
    "\n",
    "#Total number of non survivors with family based on class\n",
    "\n",
    "fig = plt.figure()\n",
    "ax = fig.add_subplot(111)\n",
    "rect = ax.bar(non_survivors.index.values.tolist(), non_survivors,color='blue', width=0.5)\n",
    "ax.set_ylabel('No. of non survivors')\n",
    "ax.set_title('Total number of non survivors with family based on class')\n",
    "xTickMarks = non_survivors.index.values.tolist()\n",
    "ax.set_xticks(non_survivors.index.values.tolist())\n",
    "xtickNames = ax.set_xticklabels(xTickMarks)\n",
    "plt.setp(xtickNames, fontsize=20)\n",
    "plt.show()\n"
   ]
  },
  {
   "cell_type": "code",
   "execution_count": 50,
   "metadata": {},
   "outputs": [],
   "source": [
    "### Plot of percentage of non survivors with family based on class"
   ]
  },
  {
   "cell_type": "code",
   "execution_count": 49,
   "metadata": {},
   "outputs": [
    {
     "data": {
      "image/png": "[encoded data removed]",
      "text/plain": [
       "<Figure size 432x288 with 1 Axes>"
      ]
     },
     "metadata": {},
     "output_type": "display_data"
    }
   ],
   "source": [
    "\n",
    "fig = plt.figure()\n",
    "ax = fig.add_subplot(111)\n",
    "rect = ax.bar(non_survivor_percentage.index.values.tolist(), non_survivor_percentage, color='blue', width=0.5)\n",
    "ax.set_ylabel('Non Survivor Percentage')\n",
    "ax.set_title('Percentage of non survivors with family based on class')\n",
    "xTickMarks = non_survivor_percentage.index.values.tolist()\n",
    "ax.set_xticks(non_survivor_percentage.index.values.tolist())\n",
    "xtickNames = ax.set_xticklabels(xTickMarks)\n",
    "plt.setp(xtickNames, fontsize=20)\n",
    "plt.show()"
   ]
  },
  {
   "cell_type": "markdown",
   "metadata": {},
   "source": [
    "### What was the survival percentage among different age groups?"
   ]
  },
  {
   "cell_type": "code",
   "execution_count": 51,
   "metadata": {},
   "outputs": [
    {
     "data": {
      "image/png": "[encoded data removed]",
      "text/plain": [
       "<Figure size 432x288 with 1 Axes>"
      ]
     },
     "metadata": {},
     "output_type": "display_data"
    }
   ],
   "source": [
    "#Checking for null values\n",
    "df['Age'].isnull().value_counts()\n",
    "\n",
    "#Defining the age binning interval\n",
    "age_bin = [0, 18, 25, 40, 60, 100]\n",
    "\n",
    "#Creating the bins\n",
    "df['AgeBin'] = pd.cut(df.Age, bins=age_bin)\n",
    "\n",
    "#Removing the null rows\n",
    "d_temp = df[np.isfinite(df['Age'])] # removing all na instances\n",
    "\n",
    "#Number of survivors based on Age bin\n",
    "survivors = d_temp.groupby('AgeBin')['Survived'].agg(sum)\n",
    "#Total passengers in each bin\n",
    "\n",
    "total_passengers = d_temp.groupby('AgeBin')['Survived'].agg('count')\n",
    "#Plotting the pie chart of total passengers in each bin\n",
    "plt.pie(total_passengers,labels=total_passengers.index.values.tolist(),autopct='%1.1f%%', shadow=True, startangle=90)\n",
    "plt.title('Total Passengers in different age groups')\n",
    "plt.show()"
   ]
  },
  {
   "cell_type": "markdown",
   "metadata": {},
   "source": [
    "### Plotting the pie chart of percentage passengers in each bin"
   ]
  },
  {
   "cell_type": "code",
   "execution_count": 52,
   "metadata": {},
   "outputs": [
    {
     "data": {
      "image/png": "[encoded data removed]",
      "text/plain": [
       "<Figure size 432x288 with 1 Axes>"
      ]
     },
     "metadata": {},
     "output_type": "display_data"
    }
   ],
   "source": [
    "plt.pie(survivors, labels=survivors.index.values.tolist(),autopct='%1.1f%%', shadow=True, startangle=90)\n",
    "plt.title('Survivors in different age groups')\n",
    "plt.show()"
   ]
  },
  {
   "cell_type": "code",
   "execution_count": null,
   "metadata": {},
   "outputs": [],
   "source": []
  }
 ],
 "metadata": {
  "kernelspec": {
   "display_name": "Python 3",
   "language": "python",
   "name": "python3"
  },
  "language_info": {
   "codemirror_mode": {
    "name": "ipython",
    "version": 3
   },
   "file_extension": ".py",
   "mimetype": "text/x-python",
   "name": "python",
   "nbconvert_exporter": "python",
   "pygments_lexer": "ipython3",
   "version": "3.6.5"
  }
 },
 "nbformat": 4,
 "nbformat_minor": 2
}
