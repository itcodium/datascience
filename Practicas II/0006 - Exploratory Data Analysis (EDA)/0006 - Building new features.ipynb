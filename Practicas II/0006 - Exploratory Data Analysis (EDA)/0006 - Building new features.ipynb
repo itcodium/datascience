{
 "cells": [
  {
   "cell_type": "markdown",
   "metadata": {},
   "source": [
    "# Building new features"
   ]
  },
  {
   "cell_type": "code",
   "execution_count": 11,
   "metadata": {},
   "outputs": [
    {
     "data": {
      "text/plain": [
       "'California housing dataset.\\n\\nThe original database is available from StatLib\\n\\n    http://lib.stat.cmu.edu/datasets/\\n\\nThe data contains 20,640 observations on 9 variables.\\n\\nThis dataset contains the average house value as target variable\\nand the following input variables (features): average income,\\nhousing average age, average rooms, average bedrooms, population,\\naverage occupation, latitude, and longitude in that order.\\n\\nReferences\\n----------\\n\\nPace, R. Kelley and Ronald Barry, Sparse Spatial Autoregressions,\\nStatistics and Probability Letters, 33 (1997) 291-297.\\n\\n'"
      ]
     },
     "execution_count": 11,
     "metadata": {},
     "output_type": "execute_result"
    }
   ],
   "source": [
    "import numpy as np\n",
    "from sklearn import datasets\n",
    "from sklearn.cross_validation import train_test_split\n",
    "from sklearn.metrics import mean_squared_error\n",
    "\n",
    "cali = datasets.california_housing.fetch_california_housing()\n",
    "cali.DESCR"
   ]
  },
  {
   "cell_type": "code",
   "execution_count": null,
   "metadata": {},
   "outputs": [],
   "source": [
    "X = cali['data']\n",
    "Y = cali['target']\n",
    "\n",
    "X_train, X_test, Y_train, Y_test = train_test_split(X, Y,train_size=0.8)"
   ]
  },
  {
   "cell_type": "code",
   "execution_count": 8,
   "metadata": {},
   "outputs": [
    {
     "name": "stdout",
     "output_type": "stream",
     "text": [
      "0.19.1\n"
     ]
    }
   ],
   "source": [
    "import sklearn\n",
    "print(sklearn.__version__)"
   ]
  },
  {
   "cell_type": "markdown",
   "metadata": {},
   "source": [
    "### Mean Absolute Error (MAE)"
   ]
  },
  {
   "cell_type": "markdown",
   "metadata": {},
   "source": [
    "- Thus, the lower the value of MAE, the better the solution"
   ]
  },
  {
   "cell_type": "code",
   "execution_count": 15,
   "metadata": {},
   "outputs": [
    {
     "name": "stdout",
     "output_type": "stream",
     "text": [
      "MAE= 1.1013867852806287\n"
     ]
    }
   ],
   "source": [
    "from sklearn.neighbors import KNeighborsRegressor\n",
    "\n",
    "regressor = KNeighborsRegressor()\n",
    "regressor.fit(X_train, Y_train)\n",
    "Y_est = regressor.predict(X_test)\n",
    "\n",
    "print (\"MAE=\", mean_squared_error(Y_test, Y_est))"
   ]
  },
  {
   "cell_type": "markdown",
   "metadata": {},
   "source": [
    "### normalize the input features using Z-scores"
   ]
  },
  {
   "cell_type": "code",
   "execution_count": 16,
   "metadata": {},
   "outputs": [
    {
     "name": "stdout",
     "output_type": "stream",
     "text": [
      "MAE= 0.41321121817891954\n"
     ]
    }
   ],
   "source": [
    "from sklearn.preprocessing import StandardScaler\n",
    "\n",
    "scaler = StandardScaler()\n",
    "X_train_scaled = scaler.fit_transform(X_train)\n",
    "X_test_scaled = scaler.transform(X_test)\n",
    "\n",
    "regressor = KNeighborsRegressor()\n",
    "regressor.fit(X_train_scaled, Y_train)\n",
    "Y_est = regressor.predict(X_test_scaled)\n",
    "\n",
    "print (\"MAE=\", mean_squared_error(Y_test, Y_est))\n"
   ]
  },
  {
   "cell_type": "markdown",
   "metadata": {},
   "source": [
    "### IQR (Inter-Quartile Range)"
   ]
  },
  {
   "cell_type": "code",
   "execution_count": 18,
   "metadata": {},
   "outputs": [
    {
     "name": "stdout",
     "output_type": "stream",
     "text": [
      "MAE= 0.41044582224034004\n"
     ]
    }
   ],
   "source": [
    "from sklearn.preprocessing import RobustScaler\n",
    "\n",
    "scaler2 = RobustScaler()\n",
    "X_train_scaled = scaler2.fit_transform(X_train)\n",
    "X_test_scaled = scaler2.transform(X_test)\n",
    "\n",
    "regressor = KNeighborsRegressor()\n",
    "regressor.fit(X_train_scaled, Y_train)\n",
    "Y_est = regressor.predict(X_test_scaled)\n",
    "\n",
    "print (\"MAE=\", mean_squared_error(Y_test, Y_est))\n",
    "    "
   ]
  },
  {
   "cell_type": "markdown",
   "metadata": {},
   "source": [
    "### No linear regretion"
   ]
  },
  {
   "cell_type": "code",
   "execution_count": 20,
   "metadata": {},
   "outputs": [
    {
     "name": "stdout",
     "output_type": "stream",
     "text": [
      "MAE= 0.3324049661118672\n"
     ]
    }
   ],
   "source": [
    "non_linear_feat = 5\n",
    "\n",
    "X_train_new_feat = np.sqrt(X_train[:,non_linear_feat])\n",
    "X_train_new_feat.shape = (X_train_new_feat.shape[0], 1)\n",
    "X_train_extended = np.hstack([X_train, X_train_new_feat])\n",
    "\n",
    "X_test_new_feat = np.sqrt(X_test[:,non_linear_feat])\n",
    "X_test_new_feat.shape = (X_test_new_feat.shape[0], 1)\n",
    "X_test_extended = np.hstack([X_test, X_test_new_feat])\n",
    "\n",
    "scaler = StandardScaler()\n",
    "X_train_extended_scaled = scaler.fit_transform(X_train_extended)\n",
    "X_test_extended_scaled = scaler.transform(X_test_extended)\n",
    "\n",
    "regressor = KNeighborsRegressor()\n",
    "regressor.fit(X_train_extended_scaled, Y_train)\n",
    "Y_est = regressor.predict(X_test_extended_scaled)\n",
    "print (\"MAE=\", mean_squared_error(Y_test, Y_est))\n"
   ]
  },
  {
   "cell_type": "code",
   "execution_count": null,
   "metadata": {},
   "outputs": [],
   "source": []
  }
 ],
 "metadata": {
  "kernelspec": {
   "display_name": "Python 3",
   "language": "python",
   "name": "python3"
  },
  "language_info": {
   "codemirror_mode": {
    "name": "ipython",
    "version": 3
   },
   "file_extension": ".py",
   "mimetype": "text/x-python",
   "name": "python",
   "nbconvert_exporter": "python",
   "pygments_lexer": "ipython3",
   "version": "3.6.5"
  }
 },
 "nbformat": 4,
 "nbformat_minor": 2
}
