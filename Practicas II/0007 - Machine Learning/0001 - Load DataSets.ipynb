{
 "cells": [
  {
   "cell_type": "code",
   "execution_count": 11,
   "metadata": {},
   "outputs": [],
   "source": [
    "import pickle\n",
    "import urllib\n",
    "import pandas as pd \n",
    "from sklearn.datasets import load_boston\n",
    "from sklearn.datasets import fetch_mldata\n",
    "from sklearn.datasets import load_svmlight_file\n",
    "from sklearn.datasets import fetch_covtype\n",
    "from sklearn.datasets import fetch_20newsgroups\n",
    "\n",
    "#pickle.dump(mnist, open( \"mnist.pickle\", \"wb\" ))\n",
    "\n",
    "download_ijcnn1=False\n",
    "if download_ijcnn1:\n",
    "    target_page ='http://www.csie.ntu.edu.tw/~cjlin/libsvmtools/datasets/binary/ijcnn1.bz2'\n",
    "    with urllib.request.urlopen(target_page) as response:\n",
    "        with open('../datasets/ijcnn1.bz2','wb') as W:\n",
    "            W.write(response.read())\n",
    "\n",
    "download_pickle=False\n",
    "if download_pickle:\n",
    "    target_page ='http://www.csie.ntu.edu.tw/~cjlin/libsvmtools/datasets/regression/cadata'\n",
    "    cadata = load_svmlight_file(urllib.request.urlopen(target_page))\n",
    "    pickle.dump(cadata, open( \"../datasets/cadata.pickle\", \"wb\" ))\n",
    "\n",
    "download_covertype=False\n",
    "if download_covertype:\n",
    "    covertype_dataset = fetch_covtype(random_state=101, shuffle=True)\n",
    "    pickle.dump(covertype_dataset, open( \"../datasets/covertype_dataset.pickle\", \"wb\" ))\n",
    "\n",
    "download_newsgroups=False\n",
    "if download_newsgroups:\n",
    "    newsgroups_dataset = fetch_20newsgroups(shuffle=True, remove=('headers','footers', 'quotes'), random_state=6)\n",
    "    pickle.dump(newsgroups_dataset, open( \"../datasets/newsgroups_dataset.pickle\", \"wb\" ))\n"
   ]
  },
  {
   "cell_type": "code",
   "execution_count": null,
   "metadata": {},
   "outputs": [],
   "source": []
  }
 ],
 "metadata": {
  "kernelspec": {
   "display_name": "Python 3",
   "language": "python",
   "name": "python3"
  },
  "language_info": {
   "codemirror_mode": {
    "name": "ipython",
    "version": 3
   },
   "file_extension": ".py",
   "mimetype": "text/x-python",
   "name": "python",
   "nbconvert_exporter": "python",
   "pygments_lexer": "ipython3",
   "version": "3.6.5"
  }
 },
 "nbformat": 4,
 "nbformat_minor": 2
}
