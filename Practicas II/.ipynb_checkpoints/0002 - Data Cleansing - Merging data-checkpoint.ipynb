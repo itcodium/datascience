{
 "cells": [
  {
   "cell_type": "markdown",
   "metadata": {},
   "source": [
    "# 1. Merging data"
   ]
  },
  {
   "cell_type": "code",
   "execution_count": 10,
   "metadata": {},
   "outputs": [
    {
     "data": {
      "text/html": [
       "<div>\n",
       "<style scoped>\n",
       "    .dataframe tbody tr th:only-of-type {\n",
       "        vertical-align: middle;\n",
       "    }\n",
       "\n",
       "    .dataframe tbody tr th {\n",
       "        vertical-align: top;\n",
       "    }\n",
       "\n",
       "    .dataframe thead th {\n",
       "        text-align: right;\n",
       "    }\n",
       "</style>\n",
       "<table border=\"1\" class=\"dataframe\">\n",
       "  <thead>\n",
       "    <tr style=\"text-align: right;\">\n",
       "      <th></th>\n",
       "      <th>LOCATION CODE</th>\n",
       "      <th>COUNTY</th>\n",
       "      <th>AREA NAME</th>\n",
       "      <th>REGION</th>\n",
       "      <th>SCHOOL YEARS</th>\n",
       "      <th>NO. OVERWEIGHT</th>\n",
       "      <th>PCT OVERWEIGHT</th>\n",
       "      <th>NO. OBESE</th>\n",
       "      <th>PCT OBESE</th>\n",
       "      <th>NO. OVERWEIGHT OR OBESE</th>\n",
       "      <th>PCT OVERWEIGHT OR OBESE</th>\n",
       "      <th>GRADE LEVEL</th>\n",
       "      <th>AREA TYPE</th>\n",
       "      <th>STREET ADDRESS</th>\n",
       "      <th>CITY</th>\n",
       "      <th>STATE</th>\n",
       "      <th>ZIP CODE</th>\n",
       "      <th>Location 1</th>\n",
       "    </tr>\n",
       "  </thead>\n",
       "  <tbody>\n",
       "    <tr>\n",
       "      <th>0</th>\n",
       "      <td>0</td>\n",
       "      <td>STATEWIDE (EXCLUDING NYC)</td>\n",
       "      <td>STATEWIDE (EXCLUDING NYC)</td>\n",
       "      <td>STATEWIDE (EXCLUDING NYC)</td>\n",
       "      <td>2010-2012</td>\n",
       "      <td>77813.0</td>\n",
       "      <td>16.2</td>\n",
       "      <td>84578.0</td>\n",
       "      <td>17.6</td>\n",
       "      <td>162391.0</td>\n",
       "      <td>33.7</td>\n",
       "      <td>DISTRICT TOTAL</td>\n",
       "      <td>STATEWIDE (EXCLUDING NYC)</td>\n",
       "      <td>NaN</td>\n",
       "      <td>NaN</td>\n",
       "      <td>NaN</td>\n",
       "      <td>NaN</td>\n",
       "      <td>NaN</td>\n",
       "    </tr>\n",
       "    <tr>\n",
       "      <th>1</th>\n",
       "      <td>0</td>\n",
       "      <td>STATEWIDE (EXCLUDING NYC)</td>\n",
       "      <td>STATEWIDE (EXCLUDING NYC)</td>\n",
       "      <td>STATEWIDE (EXCLUDING NYC)</td>\n",
       "      <td>2010-2012</td>\n",
       "      <td>44970.0</td>\n",
       "      <td>15.8</td>\n",
       "      <td>48843.0</td>\n",
       "      <td>17.2</td>\n",
       "      <td>93813.0</td>\n",
       "      <td>33.0</td>\n",
       "      <td>ELEMENTARY</td>\n",
       "      <td>STATEWIDE (EXCLUDING NYC)</td>\n",
       "      <td>NaN</td>\n",
       "      <td>NaN</td>\n",
       "      <td>NaN</td>\n",
       "      <td>NaN</td>\n",
       "      <td>NaN</td>\n",
       "    </tr>\n",
       "    <tr>\n",
       "      <th>2</th>\n",
       "      <td>0</td>\n",
       "      <td>STATEWIDE (EXCLUDING NYC)</td>\n",
       "      <td>STATEWIDE (EXCLUDING NYC)</td>\n",
       "      <td>STATEWIDE (EXCLUDING NYC)</td>\n",
       "      <td>2010-2012</td>\n",
       "      <td>33004.0</td>\n",
       "      <td>16.8</td>\n",
       "      <td>35719.0</td>\n",
       "      <td>18.2</td>\n",
       "      <td>68723.0</td>\n",
       "      <td>35.0</td>\n",
       "      <td>MIDDLE/HIGH</td>\n",
       "      <td>STATEWIDE (EXCLUDING NYC)</td>\n",
       "      <td>NaN</td>\n",
       "      <td>NaN</td>\n",
       "      <td>NaN</td>\n",
       "      <td>NaN</td>\n",
       "      <td>NaN</td>\n",
       "    </tr>\n",
       "    <tr>\n",
       "      <th>3</th>\n",
       "      <td>0</td>\n",
       "      <td>STATEWIDE (EXCLUDING NYC)</td>\n",
       "      <td>STATEWIDE (EXCLUDING NYC)</td>\n",
       "      <td>STATEWIDE (EXCLUDING NYC)</td>\n",
       "      <td>2012-2014</td>\n",
       "      <td>83095.0</td>\n",
       "      <td>16.7</td>\n",
       "      <td>86016.0</td>\n",
       "      <td>17.3</td>\n",
       "      <td>169111.0</td>\n",
       "      <td>33.9</td>\n",
       "      <td>DISTRICT TOTAL</td>\n",
       "      <td>STATEWIDE (EXCLUDING NYC)</td>\n",
       "      <td>NaN</td>\n",
       "      <td>NaN</td>\n",
       "      <td>NaN</td>\n",
       "      <td>NaN</td>\n",
       "      <td>NaN</td>\n",
       "    </tr>\n",
       "    <tr>\n",
       "      <th>4</th>\n",
       "      <td>0</td>\n",
       "      <td>STATEWIDE (EXCLUDING NYC)</td>\n",
       "      <td>STATEWIDE (EXCLUDING NYC)</td>\n",
       "      <td>STATEWIDE (EXCLUDING NYC)</td>\n",
       "      <td>2012-2014</td>\n",
       "      <td>47868.0</td>\n",
       "      <td>16.4</td>\n",
       "      <td>49140.0</td>\n",
       "      <td>16.8</td>\n",
       "      <td>97008.0</td>\n",
       "      <td>33.1</td>\n",
       "      <td>ELEMENTARY</td>\n",
       "      <td>STATEWIDE (EXCLUDING NYC)</td>\n",
       "      <td>NaN</td>\n",
       "      <td>NaN</td>\n",
       "      <td>NaN</td>\n",
       "      <td>NaN</td>\n",
       "      <td>NaN</td>\n",
       "    </tr>\n",
       "  </tbody>\n",
       "</table>\n",
       "</div>"
      ],
      "text/plain": [
       "   LOCATION CODE                     COUNTY                  AREA NAME  \\\n",
       "0              0  STATEWIDE (EXCLUDING NYC)  STATEWIDE (EXCLUDING NYC)   \n",
       "1              0  STATEWIDE (EXCLUDING NYC)  STATEWIDE (EXCLUDING NYC)   \n",
       "2              0  STATEWIDE (EXCLUDING NYC)  STATEWIDE (EXCLUDING NYC)   \n",
       "3              0  STATEWIDE (EXCLUDING NYC)  STATEWIDE (EXCLUDING NYC)   \n",
       "4              0  STATEWIDE (EXCLUDING NYC)  STATEWIDE (EXCLUDING NYC)   \n",
       "\n",
       "                      REGION SCHOOL YEARS  NO. OVERWEIGHT  PCT OVERWEIGHT  \\\n",
       "0  STATEWIDE (EXCLUDING NYC)    2010-2012         77813.0            16.2   \n",
       "1  STATEWIDE (EXCLUDING NYC)    2010-2012         44970.0            15.8   \n",
       "2  STATEWIDE (EXCLUDING NYC)    2010-2012         33004.0            16.8   \n",
       "3  STATEWIDE (EXCLUDING NYC)    2012-2014         83095.0            16.7   \n",
       "4  STATEWIDE (EXCLUDING NYC)    2012-2014         47868.0            16.4   \n",
       "\n",
       "   NO. OBESE  PCT OBESE  NO. OVERWEIGHT OR OBESE  PCT OVERWEIGHT OR OBESE  \\\n",
       "0    84578.0       17.6                 162391.0                     33.7   \n",
       "1    48843.0       17.2                  93813.0                     33.0   \n",
       "2    35719.0       18.2                  68723.0                     35.0   \n",
       "3    86016.0       17.3                 169111.0                     33.9   \n",
       "4    49140.0       16.8                  97008.0                     33.1   \n",
       "\n",
       "      GRADE LEVEL                  AREA TYPE STREET ADDRESS CITY STATE  \\\n",
       "0  DISTRICT TOTAL  STATEWIDE (EXCLUDING NYC)            NaN  NaN   NaN   \n",
       "1      ELEMENTARY  STATEWIDE (EXCLUDING NYC)            NaN  NaN   NaN   \n",
       "2     MIDDLE/HIGH  STATEWIDE (EXCLUDING NYC)            NaN  NaN   NaN   \n",
       "3  DISTRICT TOTAL  STATEWIDE (EXCLUDING NYC)            NaN  NaN   NaN   \n",
       "4      ELEMENTARY  STATEWIDE (EXCLUDING NYC)            NaN  NaN   NaN   \n",
       "\n",
       "   ZIP CODE Location 1  \n",
       "0       NaN        NaN  \n",
       "1       NaN        NaN  \n",
       "2       NaN        NaN  \n",
       "3       NaN        NaN  \n",
       "4       NaN        NaN  "
      ]
     },
     "execution_count": 10,
     "metadata": {},
     "output_type": "execute_result"
    }
   ],
   "source": [
    "import pandas as pd\n",
    "import numpy as np\n",
    "\n",
    "d = pd.read_csv('data/Student_Weight_Status_Category_Reporting_Results__Beginning_2010.csv')\n",
    "\n",
    "d.head()"
   ]
  },
  {
   "cell_type": "code",
   "execution_count": 14,
   "metadata": {},
   "outputs": [
    {
     "data": {
      "text/html": [
       "<div>\n",
       "<style scoped>\n",
       "    .dataframe tbody tr th:only-of-type {\n",
       "        vertical-align: middle;\n",
       "    }\n",
       "\n",
       "    .dataframe tbody tr th {\n",
       "        vertical-align: top;\n",
       "    }\n",
       "\n",
       "    .dataframe thead th {\n",
       "        text-align: right;\n",
       "    }\n",
       "</style>\n",
       "<table border=\"1\" class=\"dataframe\">\n",
       "  <thead>\n",
       "    <tr style=\"text-align: right;\">\n",
       "      <th></th>\n",
       "      <th>AREA NAME</th>\n",
       "      <th>GRADE LEVEL</th>\n",
       "    </tr>\n",
       "  </thead>\n",
       "  <tbody>\n",
       "    <tr>\n",
       "      <th>0</th>\n",
       "      <td>STATEWIDE (EXCLUDING NYC)</td>\n",
       "      <td>DISTRICT TOTAL</td>\n",
       "    </tr>\n",
       "    <tr>\n",
       "      <th>1</th>\n",
       "      <td>STATEWIDE (EXCLUDING NYC)</td>\n",
       "      <td>ELEMENTARY</td>\n",
       "    </tr>\n",
       "    <tr>\n",
       "      <th>2</th>\n",
       "      <td>STATEWIDE (EXCLUDING NYC)</td>\n",
       "      <td>MIDDLE/HIGH</td>\n",
       "    </tr>\n",
       "    <tr>\n",
       "      <th>3</th>\n",
       "      <td>STATEWIDE (EXCLUDING NYC)</td>\n",
       "      <td>DISTRICT TOTAL</td>\n",
       "    </tr>\n",
       "    <tr>\n",
       "      <th>4</th>\n",
       "      <td>STATEWIDE (EXCLUDING NYC)</td>\n",
       "      <td>ELEMENTARY</td>\n",
       "    </tr>\n",
       "  </tbody>\n",
       "</table>\n",
       "</div>"
      ],
      "text/plain": [
       "                   AREA NAME     GRADE LEVEL\n",
       "0  STATEWIDE (EXCLUDING NYC)  DISTRICT TOTAL\n",
       "1  STATEWIDE (EXCLUDING NYC)      ELEMENTARY\n",
       "2  STATEWIDE (EXCLUDING NYC)     MIDDLE/HIGH\n",
       "3  STATEWIDE (EXCLUDING NYC)  DISTRICT TOTAL\n",
       "4  STATEWIDE (EXCLUDING NYC)      ELEMENTARY"
      ]
     },
     "execution_count": 14,
     "metadata": {},
     "output_type": "execute_result"
    }
   ],
   "source": [
    "p1 = d[['AREA NAME', 'GRADE LEVEL']][0:2]\n",
    "p2 = d[['AREA NAME', 'GRADE LEVEL']][2:5]\n",
    "pd.concat([p1,p2])\n",
    " "
   ]
  },
  {
   "cell_type": "code",
   "execution_count": 17,
   "metadata": {},
   "outputs": [
    {
     "data": {
      "text/html": [
       "<div>\n",
       "<style scoped>\n",
       "    .dataframe tbody tr th:only-of-type {\n",
       "        vertical-align: middle;\n",
       "    }\n",
       "\n",
       "    .dataframe tbody tr th {\n",
       "        vertical-align: top;\n",
       "    }\n",
       "\n",
       "    .dataframe thead th {\n",
       "        text-align: right;\n",
       "    }\n",
       "</style>\n",
       "<table border=\"1\" class=\"dataframe\">\n",
       "  <thead>\n",
       "    <tr style=\"text-align: right;\">\n",
       "      <th></th>\n",
       "      <th></th>\n",
       "      <th>AREA NAME</th>\n",
       "      <th>GRADE LEVEL</th>\n",
       "    </tr>\n",
       "  </thead>\n",
       "  <tbody>\n",
       "    <tr>\n",
       "      <th rowspan=\"2\" valign=\"top\">p1</th>\n",
       "      <th>0</th>\n",
       "      <td>STATEWIDE (EXCLUDING NYC)</td>\n",
       "      <td>DISTRICT TOTAL</td>\n",
       "    </tr>\n",
       "    <tr>\n",
       "      <th>1</th>\n",
       "      <td>STATEWIDE (EXCLUDING NYC)</td>\n",
       "      <td>ELEMENTARY</td>\n",
       "    </tr>\n",
       "    <tr>\n",
       "      <th rowspan=\"3\" valign=\"top\">p2</th>\n",
       "      <th>2</th>\n",
       "      <td>STATEWIDE (EXCLUDING NYC)</td>\n",
       "      <td>MIDDLE/HIGH</td>\n",
       "    </tr>\n",
       "    <tr>\n",
       "      <th>3</th>\n",
       "      <td>STATEWIDE (EXCLUDING NYC)</td>\n",
       "      <td>DISTRICT TOTAL</td>\n",
       "    </tr>\n",
       "    <tr>\n",
       "      <th>4</th>\n",
       "      <td>STATEWIDE (EXCLUDING NYC)</td>\n",
       "      <td>ELEMENTARY</td>\n",
       "    </tr>\n",
       "  </tbody>\n",
       "</table>\n",
       "</div>"
      ],
      "text/plain": [
       "                      AREA NAME     GRADE LEVEL\n",
       "p1 0  STATEWIDE (EXCLUDING NYC)  DISTRICT TOTAL\n",
       "   1  STATEWIDE (EXCLUDING NYC)      ELEMENTARY\n",
       "p2 2  STATEWIDE (EXCLUDING NYC)     MIDDLE/HIGH\n",
       "   3  STATEWIDE (EXCLUDING NYC)  DISTRICT TOTAL\n",
       "   4  STATEWIDE (EXCLUDING NYC)      ELEMENTARY"
      ]
     },
     "execution_count": 17,
     "metadata": {},
     "output_type": "execute_result"
    }
   ],
   "source": [
    "concatenated = pd.concat([p1,p2], keys = ['p1','p2'])\n",
    "concatenated"
   ]
  },
  {
   "cell_type": "code",
   "execution_count": 19,
   "metadata": {},
   "outputs": [
    {
     "data": {
      "text/html": [
       "<div>\n",
       "<style scoped>\n",
       "    .dataframe tbody tr th:only-of-type {\n",
       "        vertical-align: middle;\n",
       "    }\n",
       "\n",
       "    .dataframe tbody tr th {\n",
       "        vertical-align: top;\n",
       "    }\n",
       "\n",
       "    .dataframe thead th {\n",
       "        text-align: right;\n",
       "    }\n",
       "</style>\n",
       "<table border=\"1\" class=\"dataframe\">\n",
       "  <thead>\n",
       "    <tr style=\"text-align: right;\">\n",
       "      <th></th>\n",
       "      <th>AREA NAME</th>\n",
       "      <th>GRADE LEVEL</th>\n",
       "    </tr>\n",
       "  </thead>\n",
       "  <tbody>\n",
       "    <tr>\n",
       "      <th>0</th>\n",
       "      <td>STATEWIDE (EXCLUDING NYC)</td>\n",
       "      <td>DISTRICT TOTAL</td>\n",
       "    </tr>\n",
       "    <tr>\n",
       "      <th>1</th>\n",
       "      <td>STATEWIDE (EXCLUDING NYC)</td>\n",
       "      <td>ELEMENTARY</td>\n",
       "    </tr>\n",
       "  </tbody>\n",
       "</table>\n",
       "</div>"
      ],
      "text/plain": [
       "                   AREA NAME     GRADE LEVEL\n",
       "0  STATEWIDE (EXCLUDING NYC)  DISTRICT TOTAL\n",
       "1  STATEWIDE (EXCLUDING NYC)      ELEMENTARY"
      ]
     },
     "execution_count": 19,
     "metadata": {},
     "output_type": "execute_result"
    }
   ],
   "source": [
    "concatenated.loc['p1']"
   ]
  },
  {
   "cell_type": "markdown",
   "metadata": {},
   "source": [
    "# 2. Data operations"
   ]
  },
  {
   "cell_type": "code",
   "execution_count": 24,
   "metadata": {},
   "outputs": [
    {
     "data": {
      "text/plain": [
       "275.78676207513416"
      ]
     },
     "execution_count": 24,
     "metadata": {},
     "output_type": "execute_result"
    }
   ],
   "source": [
    "data = d[d['GRADE LEVEL'] == 'ELEMENTARY']\n",
    "data['NO. OBESE'].mean()"
   ]
  },
  {
   "cell_type": "code",
   "execution_count": 25,
   "metadata": {},
   "outputs": [
    {
     "data": {
      "text/plain": [
       "770824.0"
      ]
     },
     "execution_count": 25,
     "metadata": {},
     "output_type": "execute_result"
    }
   ],
   "source": [
    "data['NO. OBESE'].sum()"
   ]
  },
  {
   "cell_type": "code",
   "execution_count": 26,
   "metadata": {},
   "outputs": [
    {
     "data": {
      "text/plain": [
       "49140.0"
      ]
     },
     "execution_count": 26,
     "metadata": {},
     "output_type": "execute_result"
    }
   ],
   "source": [
    "data['NO. OBESE'].max()"
   ]
  },
  {
   "cell_type": "code",
   "execution_count": 27,
   "metadata": {},
   "outputs": [
    {
     "data": {
      "text/plain": [
       "5.0"
      ]
     },
     "execution_count": 27,
     "metadata": {},
     "output_type": "execute_result"
    }
   ],
   "source": [
    "data['NO. OBESE'].min()"
   ]
  },
  {
   "cell_type": "code",
   "execution_count": 28,
   "metadata": {},
   "outputs": [
    {
     "data": {
      "text/plain": [
       "2021.1248151905831"
      ]
     },
     "execution_count": 28,
     "metadata": {},
     "output_type": "execute_result"
    }
   ],
   "source": [
    "data['NO. OBESE'].std()"
   ]
  },
  {
   "cell_type": "code",
   "execution_count": 29,
   "metadata": {},
   "outputs": [
    {
     "data": {
      "text/plain": [
       "52"
      ]
     },
     "execution_count": 29,
     "metadata": {},
     "output_type": "execute_result"
    }
   ],
   "source": [
    "data = df[(d['GRADE LEVEL'] == 'ELEMENTARY') & (d['COUNTY'] == 'DELAWARE')]\n",
    "data['COUNTY'].count()"
   ]
  },
  {
   "cell_type": "markdown",
   "metadata": {},
   "source": [
    "# 3. Joins"
   ]
  },
  {
   "cell_type": "code",
   "execution_count": 32,
   "metadata": {},
   "outputs": [
    {
     "data": {
      "text/html": [
       "<div>\n",
       "<style scoped>\n",
       "    .dataframe tbody tr th:only-of-type {\n",
       "        vertical-align: middle;\n",
       "    }\n",
       "\n",
       "    .dataframe tbody tr th {\n",
       "        vertical-align: top;\n",
       "    }\n",
       "\n",
       "    .dataframe thead th {\n",
       "        text-align: right;\n",
       "    }\n",
       "</style>\n",
       "<table border=\"1\" class=\"dataframe\">\n",
       "  <thead>\n",
       "    <tr style=\"text-align: right;\">\n",
       "      <th></th>\n",
       "      <th>GRADE LEVEL</th>\n",
       "      <th>LEVEL</th>\n",
       "    </tr>\n",
       "  </thead>\n",
       "  <tbody>\n",
       "    <tr>\n",
       "      <th>0</th>\n",
       "      <td>ELEMENTARY</td>\n",
       "      <td>1</td>\n",
       "    </tr>\n",
       "    <tr>\n",
       "      <th>1</th>\n",
       "      <td>MIDDLE/HIGH</td>\n",
       "      <td>2</td>\n",
       "    </tr>\n",
       "    <tr>\n",
       "      <th>2</th>\n",
       "      <td>MISC</td>\n",
       "      <td>3</td>\n",
       "    </tr>\n",
       "  </tbody>\n",
       "</table>\n",
       "</div>"
      ],
      "text/plain": [
       "   GRADE LEVEL  LEVEL\n",
       "0   ELEMENTARY      1\n",
       "1  MIDDLE/HIGH      2\n",
       "2         MISC      3"
      ]
     },
     "execution_count": 32,
     "metadata": {},
     "output_type": "execute_result"
    }
   ],
   "source": [
    "grade_lookup = {'GRADE LEVEL': pd.Series(['ELEMENTARY','MIDDLE/HIGH', 'MISC']),'LEVEL': pd.Series([1, 2, 3])}\n",
    "grade_lookup = pd.DataFrame(grade_lookup)\n",
    "grade_lookup"
   ]
  },
  {
   "cell_type": "code",
   "execution_count": 33,
   "metadata": {},
   "outputs": [
    {
     "data": {
      "text/html": [
       "<div>\n",
       "<style scoped>\n",
       "    .dataframe tbody tr th:only-of-type {\n",
       "        vertical-align: middle;\n",
       "    }\n",
       "\n",
       "    .dataframe tbody tr th {\n",
       "        vertical-align: top;\n",
       "    }\n",
       "\n",
       "    .dataframe thead th {\n",
       "        text-align: right;\n",
       "    }\n",
       "</style>\n",
       "<table border=\"1\" class=\"dataframe\">\n",
       "  <thead>\n",
       "    <tr style=\"text-align: right;\">\n",
       "      <th></th>\n",
       "      <th>GRADE LEVEL</th>\n",
       "    </tr>\n",
       "  </thead>\n",
       "  <tbody>\n",
       "    <tr>\n",
       "      <th>0</th>\n",
       "      <td>DISTRICT TOTAL</td>\n",
       "    </tr>\n",
       "    <tr>\n",
       "      <th>1</th>\n",
       "      <td>ELEMENTARY</td>\n",
       "    </tr>\n",
       "    <tr>\n",
       "      <th>2</th>\n",
       "      <td>MIDDLE/HIGH</td>\n",
       "    </tr>\n",
       "    <tr>\n",
       "      <th>3</th>\n",
       "      <td>DISTRICT TOTAL</td>\n",
       "    </tr>\n",
       "    <tr>\n",
       "      <th>4</th>\n",
       "      <td>ELEMENTARY</td>\n",
       "    </tr>\n",
       "  </tbody>\n",
       "</table>\n",
       "</div>"
      ],
      "text/plain": [
       "      GRADE LEVEL\n",
       "0  DISTRICT TOTAL\n",
       "1      ELEMENTARY\n",
       "2     MIDDLE/HIGH\n",
       "3  DISTRICT TOTAL\n",
       "4      ELEMENTARY"
      ]
     },
     "execution_count": 33,
     "metadata": {},
     "output_type": "execute_result"
    }
   ],
   "source": [
    "df[['GRADE LEVEL']][0:5]"
   ]
  },
  {
   "cell_type": "markdown",
   "metadata": {},
   "source": [
    "### 3.1 The inner join"
   ]
  },
  {
   "cell_type": "code",
   "execution_count": 34,
   "metadata": {},
   "outputs": [
    {
     "data": {
      "text/html": [
       "<div>\n",
       "<style scoped>\n",
       "    .dataframe tbody tr th:only-of-type {\n",
       "        vertical-align: middle;\n",
       "    }\n",
       "\n",
       "    .dataframe tbody tr th {\n",
       "        vertical-align: top;\n",
       "    }\n",
       "\n",
       "    .dataframe thead th {\n",
       "        text-align: right;\n",
       "    }\n",
       "</style>\n",
       "<table border=\"1\" class=\"dataframe\">\n",
       "  <thead>\n",
       "    <tr style=\"text-align: right;\">\n",
       "      <th></th>\n",
       "      <th>GRADE LEVEL</th>\n",
       "      <th>LEVEL</th>\n",
       "    </tr>\n",
       "  </thead>\n",
       "  <tbody>\n",
       "    <tr>\n",
       "      <th>1</th>\n",
       "      <td>ELEMENTARY</td>\n",
       "      <td>1</td>\n",
       "    </tr>\n",
       "    <tr>\n",
       "      <th>4</th>\n",
       "      <td>ELEMENTARY</td>\n",
       "      <td>1</td>\n",
       "    </tr>\n",
       "    <tr>\n",
       "      <th>2</th>\n",
       "      <td>MIDDLE/HIGH</td>\n",
       "      <td>2</td>\n",
       "    </tr>\n",
       "  </tbody>\n",
       "</table>\n",
       "</div>"
      ],
      "text/plain": [
       "   GRADE LEVEL  LEVEL\n",
       "1   ELEMENTARY      1\n",
       "4   ELEMENTARY      1\n",
       "2  MIDDLE/HIGH      2"
      ]
     },
     "execution_count": 34,
     "metadata": {},
     "output_type": "execute_result"
    }
   ],
   "source": [
    "d_sub = df[0:5].join(grade_lookup.set_index(['GRADE LEVEL']),on=['GRADE LEVEL'], how='inner')\n",
    "d_sub[['GRADE LEVEL', 'LEVEL']]"
   ]
  },
  {
   "cell_type": "markdown",
   "metadata": {},
   "source": [
    "### 3.2 Left outer join"
   ]
  },
  {
   "cell_type": "code",
   "execution_count": 35,
   "metadata": {},
   "outputs": [
    {
     "data": {
      "text/html": [
       "<div>\n",
       "<style scoped>\n",
       "    .dataframe tbody tr th:only-of-type {\n",
       "        vertical-align: middle;\n",
       "    }\n",
       "\n",
       "    .dataframe tbody tr th {\n",
       "        vertical-align: top;\n",
       "    }\n",
       "\n",
       "    .dataframe thead th {\n",
       "        text-align: right;\n",
       "    }\n",
       "</style>\n",
       "<table border=\"1\" class=\"dataframe\">\n",
       "  <thead>\n",
       "    <tr style=\"text-align: right;\">\n",
       "      <th></th>\n",
       "      <th>GRADE LEVEL</th>\n",
       "      <th>LEVEL</th>\n",
       "    </tr>\n",
       "  </thead>\n",
       "  <tbody>\n",
       "    <tr>\n",
       "      <th>0</th>\n",
       "      <td>DISTRICT TOTAL</td>\n",
       "      <td>NaN</td>\n",
       "    </tr>\n",
       "    <tr>\n",
       "      <th>1</th>\n",
       "      <td>ELEMENTARY</td>\n",
       "      <td>1.0</td>\n",
       "    </tr>\n",
       "    <tr>\n",
       "      <th>2</th>\n",
       "      <td>MIDDLE/HIGH</td>\n",
       "      <td>2.0</td>\n",
       "    </tr>\n",
       "    <tr>\n",
       "      <th>3</th>\n",
       "      <td>DISTRICT TOTAL</td>\n",
       "      <td>NaN</td>\n",
       "    </tr>\n",
       "    <tr>\n",
       "      <th>4</th>\n",
       "      <td>ELEMENTARY</td>\n",
       "      <td>1.0</td>\n",
       "    </tr>\n",
       "  </tbody>\n",
       "</table>\n",
       "</div>"
      ],
      "text/plain": [
       "      GRADE LEVEL  LEVEL\n",
       "0  DISTRICT TOTAL    NaN\n",
       "1      ELEMENTARY    1.0\n",
       "2     MIDDLE/HIGH    2.0\n",
       "3  DISTRICT TOTAL    NaN\n",
       "4      ELEMENTARY    1.0"
      ]
     },
     "execution_count": 35,
     "metadata": {},
     "output_type": "execute_result"
    }
   ],
   "source": [
    "d_sub = df[0:5].join(grade_lookup.set_index(['GRADE LEVEL']),on=['GRADE LEVEL'], how='left')\n",
    "d_sub[['GRADE LEVEL', 'LEVEL']]"
   ]
  },
  {
   "cell_type": "markdown",
   "metadata": {},
   "source": [
    "### 3.3 Full outer join"
   ]
  },
  {
   "cell_type": "code",
   "execution_count": 36,
   "metadata": {},
   "outputs": [
    {
     "data": {
      "text/html": [
       "<div>\n",
       "<style scoped>\n",
       "    .dataframe tbody tr th:only-of-type {\n",
       "        vertical-align: middle;\n",
       "    }\n",
       "\n",
       "    .dataframe tbody tr th {\n",
       "        vertical-align: top;\n",
       "    }\n",
       "\n",
       "    .dataframe thead th {\n",
       "        text-align: right;\n",
       "    }\n",
       "</style>\n",
       "<table border=\"1\" class=\"dataframe\">\n",
       "  <thead>\n",
       "    <tr style=\"text-align: right;\">\n",
       "      <th></th>\n",
       "      <th>GRADE LEVEL</th>\n",
       "      <th>LEVEL</th>\n",
       "    </tr>\n",
       "  </thead>\n",
       "  <tbody>\n",
       "    <tr>\n",
       "      <th>0</th>\n",
       "      <td>DISTRICT TOTAL</td>\n",
       "      <td>NaN</td>\n",
       "    </tr>\n",
       "    <tr>\n",
       "      <th>3</th>\n",
       "      <td>DISTRICT TOTAL</td>\n",
       "      <td>NaN</td>\n",
       "    </tr>\n",
       "    <tr>\n",
       "      <th>1</th>\n",
       "      <td>ELEMENTARY</td>\n",
       "      <td>1.0</td>\n",
       "    </tr>\n",
       "    <tr>\n",
       "      <th>4</th>\n",
       "      <td>ELEMENTARY</td>\n",
       "      <td>1.0</td>\n",
       "    </tr>\n",
       "    <tr>\n",
       "      <th>2</th>\n",
       "      <td>MIDDLE/HIGH</td>\n",
       "      <td>2.0</td>\n",
       "    </tr>\n",
       "    <tr>\n",
       "      <th>4</th>\n",
       "      <td>MISC</td>\n",
       "      <td>3.0</td>\n",
       "    </tr>\n",
       "  </tbody>\n",
       "</table>\n",
       "</div>"
      ],
      "text/plain": [
       "      GRADE LEVEL  LEVEL\n",
       "0  DISTRICT TOTAL    NaN\n",
       "3  DISTRICT TOTAL    NaN\n",
       "1      ELEMENTARY    1.0\n",
       "4      ELEMENTARY    1.0\n",
       "2     MIDDLE/HIGH    2.0\n",
       "4            MISC    3.0"
      ]
     },
     "execution_count": 36,
     "metadata": {},
     "output_type": "execute_result"
    }
   ],
   "source": [
    "d_sub = df[0:5].join(grade_lookup.set_index(['GRADE LEVEL']),on=['GRADE LEVEL'], how='outer')\n",
    "d_sub[['GRADE LEVEL', 'LEVEL']]"
   ]
  },
  {
   "cell_type": "markdown",
   "metadata": {},
   "source": [
    "### 3.4 The groupby function"
   ]
  },
  {
   "cell_type": "code",
   "execution_count": 38,
   "metadata": {},
   "outputs": [
    {
     "data": {
      "text/plain": [
       "GRADE LEVEL\n",
       "DISTRICT TOTAL    2870\n",
       "ELEMENTARY        2795\n",
       "MIDDLE/HIGH       2687\n",
       "Name: NO. OBESE, dtype: int64"
      ]
     },
     "execution_count": 38,
     "metadata": {},
     "output_type": "execute_result"
    }
   ],
   "source": [
    "df['NO. OBESE'].groupby(d['GRADE LEVEL']).count()"
   ]
  },
  {
   "cell_type": "code",
   "execution_count": 44,
   "metadata": {},
   "outputs": [
    {
     "data": {
      "text/plain": [
       "GRADE LEVEL\n",
       "DISTRICT TOTAL    1359576.0\n",
       "ELEMENTARY         770824.0\n",
       "MIDDLE/HIGH        577812.0\n",
       "Name: NO. OBESE, dtype: float64"
      ]
     },
     "execution_count": 44,
     "metadata": {},
     "output_type": "execute_result"
    }
   ],
   "source": [
    "d['NO. OBESE'].groupby(d['GRADE LEVEL']).aggregate(sum)"
   ]
  },
  {
   "cell_type": "code",
   "execution_count": 45,
   "metadata": {},
   "outputs": [
    {
     "data": {
      "text/html": [
       "<div>\n",
       "<style scoped>\n",
       "    .dataframe tbody tr th:only-of-type {\n",
       "        vertical-align: middle;\n",
       "    }\n",
       "\n",
       "    .dataframe tbody tr th {\n",
       "        vertical-align: top;\n",
       "    }\n",
       "\n",
       "    .dataframe thead th {\n",
       "        text-align: right;\n",
       "    }\n",
       "</style>\n",
       "<table border=\"1\" class=\"dataframe\">\n",
       "  <thead>\n",
       "    <tr style=\"text-align: right;\">\n",
       "      <th></th>\n",
       "      <th>sum</th>\n",
       "      <th>mean</th>\n",
       "      <th>std</th>\n",
       "    </tr>\n",
       "    <tr>\n",
       "      <th>GRADE LEVEL</th>\n",
       "      <th></th>\n",
       "      <th></th>\n",
       "      <th></th>\n",
       "    </tr>\n",
       "  </thead>\n",
       "  <tbody>\n",
       "    <tr>\n",
       "      <th>DISTRICT TOTAL</th>\n",
       "      <td>1359576.0</td>\n",
       "      <td>473.719861</td>\n",
       "      <td>3502.973168</td>\n",
       "    </tr>\n",
       "    <tr>\n",
       "      <th>ELEMENTARY</th>\n",
       "      <td>770824.0</td>\n",
       "      <td>275.786762</td>\n",
       "      <td>2021.124815</td>\n",
       "    </tr>\n",
       "    <tr>\n",
       "      <th>MIDDLE/HIGH</th>\n",
       "      <td>577812.0</td>\n",
       "      <td>215.039821</td>\n",
       "      <td>1532.055998</td>\n",
       "    </tr>\n",
       "  </tbody>\n",
       "</table>\n",
       "</div>"
      ],
      "text/plain": [
       "                      sum        mean          std\n",
       "GRADE LEVEL                                       \n",
       "DISTRICT TOTAL  1359576.0  473.719861  3502.973168\n",
       "ELEMENTARY       770824.0  275.786762  2021.124815\n",
       "MIDDLE/HIGH      577812.0  215.039821  1532.055998"
      ]
     },
     "execution_count": 45,
     "metadata": {},
     "output_type": "execute_result"
    }
   ],
   "source": [
    "df['NO. OBESE'].groupby(d['GRADE LEVEL']).aggregate(['sum', 'mean','std'])"
   ]
  },
  {
   "cell_type": "code",
   "execution_count": null,
   "metadata": {},
   "outputs": [],
   "source": []
  }
 ],
 "metadata": {
  "kernelspec": {
   "display_name": "Python 3",
   "language": "python",
   "name": "python3"
  },
  "language_info": {
   "codemirror_mode": {
    "name": "ipython",
    "version": 3
   },
   "file_extension": ".py",
   "mimetype": "text/x-python",
   "name": "python",
   "nbconvert_exporter": "python",
   "pygments_lexer": "ipython3",
   "version": "3.7.0"
  }
 },
 "nbformat": 4,
 "nbformat_minor": 2
}
