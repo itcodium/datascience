{
 "cells": [
  {
   "cell_type": "markdown",
   "metadata": {},
   "source": [
    "# Chunk data"
   ]
  },
  {
   "cell_type": "code",
   "execution_count": 7,
   "metadata": {},
   "outputs": [
    {
     "name": "stdout",
     "output_type": "stream",
     "text": [
      "Shape: (10, 5)\n",
      "Shape: (10, 5)\n",
      "Shape: (10, 5)\n",
      "Shape: (10, 5)\n",
      "Shape: (10, 5)\n",
      "Shape: (10, 5)\n",
      "Shape: (10, 5)\n",
      "Shape: (10, 5)\n",
      "Shape: (10, 5)\n",
      "Shape: (10, 5)\n",
      "Shape: (10, 5)\n",
      "Shape: (10, 5)\n",
      "Shape: (10, 5)\n",
      "Shape: (10, 5)\n",
      "Shape: (10, 5)\n"
     ]
    }
   ],
   "source": [
    "import pandas as pd\n",
    "import numpy as np\n",
    "\n",
    "filename='data/iris.csv'\n",
    "\n",
    "iris_chunks = pd.read_csv('data/iris.csv', header=None, names=['C1', 'C2', 'C3', 'C4', 'C5'], chunksize=10)\n",
    "\n",
    "for chunk in iris_chunks:\n",
    "    print ('Shape:', chunk.shape)"
   ]
  },
  {
   "cell_type": "code",
   "execution_count": 19,
   "metadata": {},
   "outputs": [
    {
     "name": "stdout",
     "output_type": "stream",
     "text": [
      "(10, 5)\n",
      "(20, 5)\n"
     ]
    }
   ],
   "source": [
    "iris_iterator = pd.read_csv(filename, header=None,names=['C1', 'C2', 'C3', 'C4', 'C5'], iterator=True)\n",
    "print (iris_iterator.get_chunk(10).shape)\n",
    "print (iris_iterator.get_chunk(20).shape)"
   ]
  },
  {
   "cell_type": "markdown",
   "metadata": {},
   "source": [
    "## CSV package"
   ]
  },
  {
   "cell_type": "code",
   "execution_count": 30,
   "metadata": {},
   "outputs": [
    {
     "name": "stdout",
     "output_type": "stream",
     "text": [
      "0 OrderedDict([('sepal_length', '5.1'), ('sepal_width', '3.5'), ('petal_length', '1.4'), ('petal_width', '0.2'), ('target', 'setosa')])\n"
     ]
    },
    {
     "data": {
      "text/plain": [
       "<_io.TextIOWrapper name='data/iris.csv' mode='r' encoding='cp1252'>"
      ]
     },
     "execution_count": 30,
     "metadata": {},
     "output_type": "execute_result"
    }
   ],
   "source": [
    "import csv\n",
    "\n",
    "fieldnames = ['sepal_length', 'sepal_width','petal_length', 'petal_width', 'target']\n",
    "\n",
    "with open(filename, 'rt') as data_stream:\n",
    "    for n, row in enumerate(csv.DictReader(data_stream,fieldnames =fieldnames ,dialect='excel')):\n",
    "        if n== 0:\n",
    "            print (n,row)\n",
    "        else:\n",
    "            break\n",
    "        \n",
    "open(filename)        "
   ]
  },
  {
   "cell_type": "code",
   "execution_count": 31,
   "metadata": {},
   "outputs": [
    {
     "name": "stdout",
     "output_type": "stream",
     "text": [
      "0 ['5.1', '3.5', '1.4', '0.2', 'setosa']\n"
     ]
    },
    {
     "data": {
      "text/plain": [
       "<_io.TextIOWrapper name='data/iris.csv' mode='r' encoding='cp1252'>"
      ]
     },
     "execution_count": 31,
     "metadata": {},
     "output_type": "execute_result"
    }
   ],
   "source": [
    "with open(filename, 'rt') as data_stream:\n",
    "    for n, row in enumerate(csv.reader(data_stream,dialect='excel')):\n",
    "        if n== 0:\n",
    "            print (n,row)\n",
    "        else:\n",
    "            break\n",
    "        \n",
    "open(filename)  "
   ]
  },
  {
   "cell_type": "markdown",
   "metadata": {},
   "source": [
    "## Retrieves the data on the fly from the file in the blocks"
   ]
  },
  {
   "cell_type": "code",
   "execution_count": null,
   "metadata": {},
   "outputs": [],
   "source": [
    "def batch_read(filename, batch=5):\n",
    "    with open(filename, 'rt') as data_stream:\n",
    "        batch_output = list()\n",
    "        for n, row in enumerate(csv.reader(data_stream,dialect='excel')):\n",
    "            if n > 0 and n % batch == 0:\n",
    "                yield(np.array(batch_output))\n",
    "                batch_output = list()\n",
    "            batch_output.append(row)\n",
    "        leftyield(np.array(batch_output))"
   ]
  }
 ],
 "metadata": {
  "kernelspec": {
   "display_name": "Python 3",
   "language": "python",
   "name": "python3"
  },
  "language_info": {
   "codemirror_mode": {
    "name": "ipython",
    "version": 3
   },
   "file_extension": ".py",
   "mimetype": "text/x-python",
   "name": "python",
   "nbconvert_exporter": "python",
   "pygments_lexer": "ipython3",
   "version": "3.6.5"
  }
 },
 "nbformat": 4,
 "nbformat_minor": 2
}
