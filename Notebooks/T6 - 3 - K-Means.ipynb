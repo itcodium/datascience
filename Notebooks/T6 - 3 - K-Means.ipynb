{
 "cells": [
  {
   "cell_type": "markdown",
   "metadata": {},
   "source": [
    "# El método de k-means"
   ]
  },
  {
   "cell_type": "code",
   "execution_count": 2,
   "metadata": {},
   "outputs": [],
   "source": [
    "import numpy as np"
   ]
  },
  {
   "cell_type": "code",
   "execution_count": 3,
   "metadata": {},
   "outputs": [
    {
     "data": {
      "text/plain": [
       "array([[0.71702865, 0.99447687, 0.6847194 ],\n",
       "       [0.99248446, 0.13276271, 0.65237503],\n",
       "       [0.42389644, 0.49125774, 0.27738143],\n",
       "       [0.37268725, 0.77929202, 0.93978462],\n",
       "       [0.79401518, 0.46953924, 0.83351431],\n",
       "       [0.79747694, 0.28565944, 0.80767044],\n",
       "       [0.43583139, 0.52568688, 0.1414311 ],\n",
       "       [0.01046896, 0.55722497, 0.46741829],\n",
       "       [0.5826452 , 0.76779007, 0.82745644],\n",
       "       [0.22129372, 0.12480781, 0.36113552],\n",
       "       [0.01075906, 0.93364277, 0.90812914],\n",
       "       [0.46408158, 0.98754158, 0.03039519],\n",
       "       [0.20028417, 0.36845786, 0.74518116],\n",
       "       [0.90867474, 0.66613713, 0.55883478],\n",
       "       [0.25400687, 0.91153375, 0.03063858],\n",
       "       [0.52322256, 0.04126511, 0.87373423],\n",
       "       [0.46779887, 0.20171906, 0.18024032],\n",
       "       [0.04032468, 0.03835709, 0.70080175],\n",
       "       [0.51092664, 0.20332807, 0.53120515],\n",
       "       [0.26609644, 0.78785339, 0.46719089],\n",
       "       [0.27021338, 0.68165879, 0.13916072],\n",
       "       [0.97513996, 0.82391788, 0.05144861],\n",
       "       [0.03698075, 0.70599146, 0.39140546],\n",
       "       [0.1004597 , 0.2020341 , 0.37669001],\n",
       "       [0.6890972 , 0.84112581, 0.74397345],\n",
       "       [0.90988383, 0.35857332, 0.96129309],\n",
       "       [0.66193097, 0.62173556, 0.97196938],\n",
       "       [0.49025274, 0.06849252, 0.84278142],\n",
       "       [0.14493606, 0.66464896, 0.76799013],\n",
       "       [0.14574048, 0.99860522, 0.53599632]])"
      ]
     },
     "execution_count": 3,
     "metadata": {},
     "output_type": "execute_result"
    }
   ],
   "source": [
    "data = np.random.random(90).reshape(30,3) # 30 filas en 3 columnas\n",
    "data"
   ]
  },
  {
   "cell_type": "code",
   "execution_count": 4,
   "metadata": {},
   "outputs": [
    {
     "data": {
      "text/plain": [
       "array([[0.90867474, 0.66613713, 0.55883478],\n",
       "       [0.90988383, 0.35857332, 0.96129309]])"
      ]
     },
     "execution_count": 4,
     "metadata": {},
     "output_type": "execute_result"
    }
   ],
   "source": [
    "c1 = np.random.choice(range(len(data))) # selecciona una fila al azar\n",
    "c2 = np.random.choice(range(len(data))) # selecciona una fila al azar\n",
    "clust_centers = np.vstack([data[c1], data[c2]])\n",
    "clust_centers"
   ]
  },
  {
   "cell_type": "code",
   "execution_count": 5,
   "metadata": {},
   "outputs": [],
   "source": [
    "from scipy.cluster.vq import vq"
   ]
  },
  {
   "cell_type": "code",
   "execution_count": 6,
   "metadata": {},
   "outputs": [
    {
     "data": {
      "text/plain": [
       "(array([0, 1, 0, 0, 1, 1, 0, 0, 0, 0, 0, 0, 1, 0, 0, 1, 0, 1, 1, 0, 0, 0,\n",
       "        0, 0, 0, 1, 1, 1, 0, 0]),\n",
       " array([0.4004774 , 0.39146349, 0.58720421, 0.66724013, 0.20510094,\n",
       "        0.20384225, 0.64616788, 0.90939125, 0.43449532, 0.8970034 ,\n",
       "        0.99990919, 0.76171667, 0.74184482, 0.        , 0.8762424 ,\n",
       "        0.50779719, 0.74390149, 0.96256287, 0.60683075, 0.66039406,\n",
       "        0.76419902, 0.53549334, 0.88852201, 0.94962092, 0.33632077,\n",
       "        0.        , 0.36173052, 0.52371951, 0.79186169, 0.83254148]))"
      ]
     },
     "execution_count": 6,
     "metadata": {},
     "output_type": "execute_result"
    }
   ],
   "source": [
    "# array 1, identifica a que cluster pertenece casa muestra\n",
    "# array 2, distancias al cada cluster\n",
    "vq(data, clust_centers)"
   ]
  },
  {
   "cell_type": "code",
   "execution_count": 7,
   "metadata": {},
   "outputs": [],
   "source": [
    "from scipy.cluster.vq import kmeans"
   ]
  },
  {
   "cell_type": "code",
   "execution_count": 9,
   "metadata": {},
   "outputs": [
    {
     "data": {
      "text/plain": [
       "(array([[0.39460496, 0.77166972, 0.46843262],\n",
       "        [0.51618111, 0.23974861, 0.67989168]]), 0.41875038589056934)"
      ]
     },
     "execution_count": 9,
     "metadata": {},
     "output_type": "execute_result"
    }
   ],
   "source": [
    "# muestra los varicentros del cluster\n",
    "kmeans(data, clust_centers) # Resultado: un array de 2 cluster y sus centros y suma de los cuadrado de los errores Normalizado"
   ]
  },
  {
   "cell_type": "code",
   "execution_count": 10,
   "metadata": {},
   "outputs": [
    {
     "data": {
      "text/plain": [
       "(array([[0.26284191, 0.58852584, 0.38662557],\n",
       "        [0.68848664, 0.47924445, 0.78687013]]), 0.4046805335202421)"
      ]
     },
     "execution_count": 10,
     "metadata": {},
     "output_type": "execute_result"
    }
   ],
   "source": [
    "kmeans(data, 2) # K=2"
   ]
  },
  {
   "cell_type": "code",
   "execution_count": null,
   "metadata": {},
   "outputs": [],
   "source": []
  }
 ],
 "metadata": {
  "kernelspec": {
   "display_name": "Python 3",
   "language": "python",
   "name": "python3"
  },
  "language_info": {
   "codemirror_mode": {
    "name": "ipython",
    "version": 3
   },
   "file_extension": ".py",
   "mimetype": "text/x-python",
   "name": "python",
   "nbconvert_exporter": "python",
   "pygments_lexer": "ipython3",
   "version": "3.6.5"
  }
 },
 "nbformat": 4,
 "nbformat_minor": 2
}
