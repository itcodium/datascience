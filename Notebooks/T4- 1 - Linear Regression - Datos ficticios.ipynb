{
 "cells": [
  {
   "cell_type": "code",
   "execution_count": 2,
   "metadata": {},
   "outputs": [],
   "source": [
    "import pandas as pd\n",
    "import numpy as np"
   ]
  },
  {
   "cell_type": "code",
   "execution_count": 3,
   "metadata": {},
   "outputs": [],
   "source": [
    "x= 1.5 + 2.5 * np.random.randn(100)"
   ]
  },
  {
   "cell_type": "code",
   "execution_count": 4,
   "metadata": {},
   "outputs": [],
   "source": [
    "res= 0 + 0.8 * np.random.randn(100)"
   ]
  },
  {
   "cell_type": "code",
   "execution_count": 5,
   "metadata": {},
   "outputs": [],
   "source": [
    "y_pred= 5 + 1.9 * x"
   ]
  },
  {
   "cell_type": "code",
   "execution_count": 6,
   "metadata": {},
   "outputs": [],
   "source": [
    "y_act= 5 + 1.9 * x + res"
   ]
  },
  {
   "cell_type": "code",
   "execution_count": 7,
   "metadata": {},
   "outputs": [],
   "source": [
    "x_list=x.tolist() \n",
    "y_pred_list=y_pred.tolist()\n",
    "y_act_list=y_act.tolist()"
   ]
  },
  {
   "cell_type": "code",
   "execution_count": 8,
   "metadata": {},
   "outputs": [],
   "source": [
    "data= pd.DataFrame({\n",
    "    \"x\":x_list,\n",
    "    \"y_actual\":y_act_list,\n",
    "    \"y_prediccion\":y_pred_list\n",
    "})\n"
   ]
  },
  {
   "cell_type": "code",
   "execution_count": 9,
   "metadata": {},
   "outputs": [
    {
     "data": {
      "text/html": [
       "<div>\n",
       "<style scoped>\n",
       "    .dataframe tbody tr th:only-of-type {\n",
       "        vertical-align: middle;\n",
       "    }\n",
       "\n",
       "    .dataframe tbody tr th {\n",
       "        vertical-align: top;\n",
       "    }\n",
       "\n",
       "    .dataframe thead th {\n",
       "        text-align: right;\n",
       "    }\n",
       "</style>\n",
       "<table border=\"1\" class=\"dataframe\">\n",
       "  <thead>\n",
       "    <tr style=\"text-align: right;\">\n",
       "      <th></th>\n",
       "      <th>x</th>\n",
       "      <th>y_actual</th>\n",
       "      <th>y_prediccion</th>\n",
       "    </tr>\n",
       "  </thead>\n",
       "  <tbody>\n",
       "    <tr>\n",
       "      <th>0</th>\n",
       "      <td>1.150058</td>\n",
       "      <td>7.010525</td>\n",
       "      <td>7.185110</td>\n",
       "    </tr>\n",
       "    <tr>\n",
       "      <th>1</th>\n",
       "      <td>0.154877</td>\n",
       "      <td>4.651257</td>\n",
       "      <td>5.294266</td>\n",
       "    </tr>\n",
       "    <tr>\n",
       "      <th>2</th>\n",
       "      <td>0.994307</td>\n",
       "      <td>8.788933</td>\n",
       "      <td>6.889184</td>\n",
       "    </tr>\n",
       "    <tr>\n",
       "      <th>3</th>\n",
       "      <td>-0.047515</td>\n",
       "      <td>4.819504</td>\n",
       "      <td>4.909721</td>\n",
       "    </tr>\n",
       "    <tr>\n",
       "      <th>4</th>\n",
       "      <td>-2.899925</td>\n",
       "      <td>-0.645500</td>\n",
       "      <td>-0.509857</td>\n",
       "    </tr>\n",
       "  </tbody>\n",
       "</table>\n",
       "</div>"
      ],
      "text/plain": [
       "          x  y_actual  y_prediccion\n",
       "0  1.150058  7.010525      7.185110\n",
       "1  0.154877  4.651257      5.294266\n",
       "2  0.994307  8.788933      6.889184\n",
       "3 -0.047515  4.819504      4.909721\n",
       "4 -2.899925 -0.645500     -0.509857"
      ]
     },
     "execution_count": 9,
     "metadata": {},
     "output_type": "execute_result"
    }
   ],
   "source": [
    "data.head()"
   ]
  },
  {
   "cell_type": "code",
   "execution_count": 10,
   "metadata": {},
   "outputs": [
    {
     "data": {
      "text/plain": [
       "Text(0.5,1,'Valor actual vs Prediccion')"
      ]
     },
     "execution_count": 10,
     "metadata": {},
     "output_type": "execute_result"
    },
    {
     "data": {
      "image/png": "[encoded data removed]",
      "text/plain": [
       "<Figure size 432x288 with 1 Axes>"
      ]
     },
     "metadata": {},
     "output_type": "display_data"
    }
   ],
   "source": [
    "import matplotlib.pyplot as plt\n",
    "y_mean =[np.mean(y_act) for i in range(1,len(x_list)+1)]\n",
    "\n",
    "%matplotlib inline\n",
    "plt.plot(x,y_pred)\n",
    "plt.plot(x,y_act,\"ro\")\n",
    "plt.plot(x,y_mean,\"bo\")\n",
    "plt.title(\"Valor actual vs Prediccion\")\n"
   ]
  },
  {
   "cell_type": "code",
   "execution_count": 11,
   "metadata": {},
   "outputs": [
    {
     "data": {
      "text/html": [
       "<div>\n",
       "<style scoped>\n",
       "    .dataframe tbody tr th:only-of-type {\n",
       "        vertical-align: middle;\n",
       "    }\n",
       "\n",
       "    .dataframe tbody tr th {\n",
       "        vertical-align: top;\n",
       "    }\n",
       "\n",
       "    .dataframe thead th {\n",
       "        text-align: right;\n",
       "    }\n",
       "</style>\n",
       "<table border=\"1\" class=\"dataframe\">\n",
       "  <thead>\n",
       "    <tr style=\"text-align: right;\">\n",
       "      <th></th>\n",
       "      <th>x</th>\n",
       "      <th>y_actual</th>\n",
       "      <th>y_prediccion</th>\n",
       "      <th>SSR</th>\n",
       "      <th>SSD</th>\n",
       "      <th>SST</th>\n",
       "    </tr>\n",
       "  </thead>\n",
       "  <tbody>\n",
       "    <tr>\n",
       "      <th>0</th>\n",
       "      <td>1.150058</td>\n",
       "      <td>7.010525</td>\n",
       "      <td>7.185110</td>\n",
       "      <td>0.213143</td>\n",
       "      <td>0.030480</td>\n",
       "      <td>0.082420</td>\n",
       "    </tr>\n",
       "    <tr>\n",
       "      <th>1</th>\n",
       "      <td>0.154877</td>\n",
       "      <td>4.651257</td>\n",
       "      <td>5.294266</td>\n",
       "      <td>2.042526</td>\n",
       "      <td>0.413461</td>\n",
       "      <td>4.293926</td>\n",
       "    </tr>\n",
       "    <tr>\n",
       "      <th>2</th>\n",
       "      <td>0.994307</td>\n",
       "      <td>8.788933</td>\n",
       "      <td>6.889184</td>\n",
       "      <td>0.027472</td>\n",
       "      <td>3.609048</td>\n",
       "      <td>4.266278</td>\n",
       "    </tr>\n",
       "    <tr>\n",
       "      <th>3</th>\n",
       "      <td>-0.047515</td>\n",
       "      <td>4.819504</td>\n",
       "      <td>4.909721</td>\n",
       "      <td>3.289563</td>\n",
       "      <td>0.008139</td>\n",
       "      <td>3.624958</td>\n",
       "    </tr>\n",
       "    <tr>\n",
       "      <th>4</th>\n",
       "      <td>-2.899925</td>\n",
       "      <td>-0.645500</td>\n",
       "      <td>-0.509857</td>\n",
       "      <td>52.320529</td>\n",
       "      <td>0.018399</td>\n",
       "      <td>54.301222</td>\n",
       "    </tr>\n",
       "  </tbody>\n",
       "</table>\n",
       "</div>"
      ],
      "text/plain": [
       "          x  y_actual  y_prediccion        SSR       SSD        SST\n",
       "0  1.150058  7.010525      7.185110   0.213143  0.030480   0.082420\n",
       "1  0.154877  4.651257      5.294266   2.042526  0.413461   4.293926\n",
       "2  0.994307  8.788933      6.889184   0.027472  3.609048   4.266278\n",
       "3 -0.047515  4.819504      4.909721   3.289563  0.008139   3.624958\n",
       "4 -2.899925 -0.645500     -0.509857  52.320529  0.018399  54.301222"
      ]
     },
     "execution_count": 11,
     "metadata": {},
     "output_type": "execute_result"
    }
   ],
   "source": [
    "data[\"SSR\"]= (data[\"y_prediccion\"]-np.mean(y_act))**2\n",
    "data[\"SSD\"]= (data[\"y_prediccion\"]-data[\"y_actual\"])**2\n",
    "data[\"SST\"]= (data[\"y_actual\"]-np.mean(y_act))**2\n",
    "data.head()"
   ]
  },
  {
   "cell_type": "code",
   "execution_count": 12,
   "metadata": {},
   "outputs": [],
   "source": [
    "SSR=sum(data[\"SSR\"])\n",
    "SSD=sum(data[\"SSD\"])\n",
    "SST=sum(data[\"SST\"])"
   ]
  },
  {
   "cell_type": "code",
   "execution_count": 13,
   "metadata": {},
   "outputs": [
    {
     "data": {
      "text/plain": [
       "2309.431121385203"
      ]
     },
     "execution_count": 13,
     "metadata": {},
     "output_type": "execute_result"
    }
   ],
   "source": [
    "SSR"
   ]
  },
  {
   "cell_type": "code",
   "execution_count": 14,
   "metadata": {},
   "outputs": [
    {
     "data": {
      "text/plain": [
       "71.94957708400756"
      ]
     },
     "execution_count": 14,
     "metadata": {},
     "output_type": "execute_result"
    }
   ],
   "source": [
    "SSD"
   ]
  },
  {
   "cell_type": "code",
   "execution_count": 15,
   "metadata": {},
   "outputs": [
    {
     "data": {
      "text/plain": [
       "2456.8002543723037"
      ]
     },
     "execution_count": 15,
     "metadata": {},
     "output_type": "execute_result"
    }
   ],
   "source": [
    "SST"
   ]
  },
  {
   "cell_type": "code",
   "execution_count": 16,
   "metadata": {},
   "outputs": [
    {
     "data": {
      "text/plain": [
       "2381.3806984692105"
      ]
     },
     "execution_count": 16,
     "metadata": {},
     "output_type": "execute_result"
    }
   ],
   "source": [
    "SSR+ SSD"
   ]
  },
  {
   "cell_type": "code",
   "execution_count": 17,
   "metadata": {},
   "outputs": [
    {
     "data": {
      "text/plain": [
       "0.9400158263884776"
      ]
     },
     "execution_count": 17,
     "metadata": {},
     "output_type": "execute_result"
    }
   ],
   "source": [
    "R2=SSR/SST\n",
    "R2"
   ]
  },
  {
   "cell_type": "code",
   "execution_count": 18,
   "metadata": {},
   "outputs": [
    {
     "data": {
      "text/plain": [
       "(array([ 3.,  1.,  3., 10., 16., 14., 26., 15.,  7.,  5.]),\n",
       " array([-2.48301277, -2.05586168, -1.62871058, -1.20155948, -0.77440839,\n",
       "        -0.34725729,  0.07989381,  0.5070449 ,  0.934196  ,  1.3613471 ,\n",
       "         1.78849819]),\n",
       " <a list of 10 Patch objects>)"
      ]
     },
     "execution_count": 18,
     "metadata": {},
     "output_type": "execute_result"
    },
    {
     "data": {
      "image/png": "[encoded data removed]",
      "text/plain": [
       "<Figure size 432x288 with 1 Axes>"
      ]
     },
     "metadata": {},
     "output_type": "display_data"
    }
   ],
   "source": [
    "plt.hist(data[\"y_prediccion\"]-data[\"y_actual\"])"
   ]
  },
  {
   "cell_type": "markdown",
   "metadata": {},
   "source": [
    "# Obteniendo la recta de regresion\n",
    "\n",
    "* y= a + b * x \n",
    "* b = sum((xi - x_m) * (y_i - y_m)) / sum( (xi-x_m)^2)\n",
    "* a= y_n - b * x_m\n"
   ]
  },
  {
   "cell_type": "code",
   "execution_count": 19,
   "metadata": {},
   "outputs": [
    {
     "data": {
      "text/plain": [
       "(0.9108765348561546, 6.723436163142717)"
      ]
     },
     "execution_count": 19,
     "metadata": {},
     "output_type": "execute_result"
    }
   ],
   "source": [
    "x_mean =  np.mean(data[\"x\"])\n",
    "y_mean = np.mean(data[\"y_actual\"])\n",
    "x_mean,y_mean"
   ]
  },
  {
   "cell_type": "code",
   "execution_count": 20,
   "metadata": {},
   "outputs": [],
   "source": [
    "data[\"beta_n\"]=(data[\"x\"]-x_mean)* (data[\"y_actual\"]-y_mean)\n",
    "data[\"beta_d\"]=(data[\"x\"]-x_mean)**2"
   ]
  },
  {
   "cell_type": "code",
   "execution_count": 21,
   "metadata": {},
   "outputs": [
    {
     "data": {
      "text/plain": [
       "(4.964507422463125, 1.9310287106664366)"
      ]
     },
     "execution_count": 21,
     "metadata": {},
     "output_type": "execute_result"
    }
   ],
   "source": [
    "beta=sum(data[\"beta_n\"]) / sum(data[\"beta_d\"])\n",
    "alpha= y_mean - beta * x_mean\n",
    "alpha,beta\n",
    "\n",
    "    "
   ]
  },
  {
   "cell_type": "markdown",
   "metadata": {},
   "source": [
    "* El modelo lineal obtenido por regresion es Y=  4.964507422463125+  1.9310287106664366 * x"
   ]
  },
  {
   "cell_type": "code",
   "execution_count": 23,
   "metadata": {},
   "outputs": [
    {
     "data": {
      "text/html": [
       "<div>\n",
       "<style scoped>\n",
       "    .dataframe tbody tr th:only-of-type {\n",
       "        vertical-align: middle;\n",
       "    }\n",
       "\n",
       "    .dataframe tbody tr th {\n",
       "        vertical-align: top;\n",
       "    }\n",
       "\n",
       "    .dataframe thead th {\n",
       "        text-align: right;\n",
       "    }\n",
       "</style>\n",
       "<table border=\"1\" class=\"dataframe\">\n",
       "  <thead>\n",
       "    <tr style=\"text-align: right;\">\n",
       "      <th></th>\n",
       "      <th>x</th>\n",
       "      <th>y_actual</th>\n",
       "      <th>y_prediccion</th>\n",
       "      <th>SSR</th>\n",
       "      <th>SSD</th>\n",
       "      <th>SST</th>\n",
       "      <th>beta_n</th>\n",
       "      <th>beta_d</th>\n",
       "      <th>y_model</th>\n",
       "    </tr>\n",
       "  </thead>\n",
       "  <tbody>\n",
       "    <tr>\n",
       "      <th>0</th>\n",
       "      <td>1.150058</td>\n",
       "      <td>7.010525</td>\n",
       "      <td>7.185110</td>\n",
       "      <td>0.213143</td>\n",
       "      <td>0.030480</td>\n",
       "      <td>0.082420</td>\n",
       "      <td>0.068666</td>\n",
       "      <td>0.057208</td>\n",
       "      <td>7.185302</td>\n",
       "    </tr>\n",
       "    <tr>\n",
       "      <th>1</th>\n",
       "      <td>0.154877</td>\n",
       "      <td>4.651257</td>\n",
       "      <td>5.294266</td>\n",
       "      <td>2.042526</td>\n",
       "      <td>0.413461</td>\n",
       "      <td>4.293926</td>\n",
       "      <td>1.566566</td>\n",
       "      <td>0.571535</td>\n",
       "      <td>5.263580</td>\n",
       "    </tr>\n",
       "    <tr>\n",
       "      <th>2</th>\n",
       "      <td>0.994307</td>\n",
       "      <td>8.788933</td>\n",
       "      <td>6.889184</td>\n",
       "      <td>0.027472</td>\n",
       "      <td>3.609048</td>\n",
       "      <td>4.266278</td>\n",
       "      <td>0.172326</td>\n",
       "      <td>0.006961</td>\n",
       "      <td>6.884543</td>\n",
       "    </tr>\n",
       "    <tr>\n",
       "      <th>3</th>\n",
       "      <td>-0.047515</td>\n",
       "      <td>4.819504</td>\n",
       "      <td>4.909721</td>\n",
       "      <td>3.289563</td>\n",
       "      <td>0.008139</td>\n",
       "      <td>3.624958</td>\n",
       "      <td>1.824713</td>\n",
       "      <td>0.918515</td>\n",
       "      <td>4.872754</td>\n",
       "    </tr>\n",
       "    <tr>\n",
       "      <th>4</th>\n",
       "      <td>-2.899925</td>\n",
       "      <td>-0.645500</td>\n",
       "      <td>-0.509857</td>\n",
       "      <td>52.320529</td>\n",
       "      <td>0.018399</td>\n",
       "      <td>54.301222</td>\n",
       "      <td>28.081552</td>\n",
       "      <td>14.522206</td>\n",
       "      <td>-0.635330</td>\n",
       "    </tr>\n",
       "  </tbody>\n",
       "</table>\n",
       "</div>"
      ],
      "text/plain": [
       "          x  y_actual  y_prediccion        SSR       SSD        SST  \\\n",
       "0  1.150058  7.010525      7.185110   0.213143  0.030480   0.082420   \n",
       "1  0.154877  4.651257      5.294266   2.042526  0.413461   4.293926   \n",
       "2  0.994307  8.788933      6.889184   0.027472  3.609048   4.266278   \n",
       "3 -0.047515  4.819504      4.909721   3.289563  0.008139   3.624958   \n",
       "4 -2.899925 -0.645500     -0.509857  52.320529  0.018399  54.301222   \n",
       "\n",
       "      beta_n     beta_d   y_model  \n",
       "0   0.068666   0.057208  7.185302  \n",
       "1   1.566566   0.571535  5.263580  \n",
       "2   0.172326   0.006961  6.884543  \n",
       "3   1.824713   0.918515  4.872754  \n",
       "4  28.081552  14.522206 -0.635330  "
      ]
     },
     "execution_count": 23,
     "metadata": {},
     "output_type": "execute_result"
    }
   ],
   "source": [
    "data[\"y_model\"] =alpha + beta * data[\"x\"]\n",
    "data.head()"
   ]
  },
  {
   "cell_type": "code",
   "execution_count": 24,
   "metadata": {},
   "outputs": [
    {
     "data": {
      "text/plain": [
       "(2385.4718234730026, 71.32843089930151, 2456.800254372304)"
      ]
     },
     "execution_count": 24,
     "metadata": {},
     "output_type": "execute_result"
    }
   ],
   "source": [
    "SSR= sum((data[\"y_model\"]-y_mean)**2)\n",
    "SSD= sum((data[\"y_model\"]-data[\"y_actual\"])**2)\n",
    "SST= sum((data[\"y_actual\"]-y_mean)**2)\n",
    "SSR,SSD,SST"
   ]
  },
  {
   "cell_type": "code",
   "execution_count": 25,
   "metadata": {},
   "outputs": [
    {
     "data": {
      "text/plain": [
       "0.9709669393055621"
      ]
     },
     "execution_count": 25,
     "metadata": {},
     "output_type": "execute_result"
    }
   ],
   "source": [
    "R2= SSR/SST\n",
    "R2"
   ]
  },
  {
   "cell_type": "code",
   "execution_count": 28,
   "metadata": {},
   "outputs": [
    {
     "data": {
      "text/plain": [
       "Text(0.5,1,'Valor actual vs Prediccion')"
      ]
     },
     "execution_count": 28,
     "metadata": {},
     "output_type": "execute_result"
    },
    {
     "data": {
      "image/png": "[encoded data removed]",
      "text/plain": [
       "<Figure size 432x288 with 1 Axes>"
      ]
     },
     "metadata": {},
     "output_type": "display_data"
    }
   ],
   "source": [
    "y_mean =[np.mean(y_act) for i in range(1,len(x_list)+1)]\n",
    "\n",
    "plt.plot(data[\"x\"],data[\"y_prediccion\"])\n",
    "plt.plot(data[\"x\"],data[\"y_actual\"],\"ro\")\n",
    "plt.plot(data[\"x\"],y_mean,\"g\")\n",
    "plt.plot(data[\"x\"],data[\"y_model\"])\n",
    "plt.title(\"Valor actual vs Prediccion\")\n"
   ]
  },
  {
   "cell_type": "markdown",
   "metadata": {},
   "source": [
    "# Error estandar de los residuos"
   ]
  },
  {
   "cell_type": "code",
   "execution_count": 33,
   "metadata": {},
   "outputs": [
    {
     "data": {
      "text/plain": [
       "0.8531360569249934"
      ]
     },
     "execution_count": 33,
     "metadata": {},
     "output_type": "execute_result"
    }
   ],
   "source": [
    "RSE = np.sqrt( SSD/ (len(data)-2))\n",
    "RSE"
   ]
  },
  {
   "cell_type": "code",
   "execution_count": 34,
   "metadata": {},
   "outputs": [
    {
     "data": {
      "text/plain": [
       "6.723436163142717"
      ]
     },
     "execution_count": 34,
     "metadata": {},
     "output_type": "execute_result"
    }
   ],
   "source": [
    "np.mean(data[\"y_actual\"])"
   ]
  },
  {
   "cell_type": "code",
   "execution_count": 35,
   "metadata": {},
   "outputs": [
    {
     "data": {
      "text/plain": [
       "0.12688988728736803"
      ]
     },
     "execution_count": 35,
     "metadata": {},
     "output_type": "execute_result"
    }
   ],
   "source": [
    "RSE/np.mean(data[\"y_actual\"])"
   ]
  },
  {
   "cell_type": "code",
   "execution_count": null,
   "metadata": {},
   "outputs": [],
   "source": []
  }
 ],
 "metadata": {
  "kernelspec": {
   "display_name": "Python 3",
   "language": "python",
   "name": "python3"
  },
  "language_info": {
   "codemirror_mode": {
    "name": "ipython",
    "version": 3
   },
   "file_extension": ".py",
   "mimetype": "text/x-python",
   "name": "python",
   "nbconvert_exporter": "python",
   "pygments_lexer": "ipython3",
   "version": "3.6.5"
  }
 },
 "nbformat": 4,
 "nbformat_minor": 2
}
