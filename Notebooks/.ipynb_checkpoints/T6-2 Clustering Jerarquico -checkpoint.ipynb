{
 "cells": [
  {
   "cell_type": "markdown",
   "metadata": {},
   "source": [
    "# T6-2 Clustering Jerarquico  y dendrogramas"
   ]
  },
  {
   "cell_type": "markdown",
   "metadata": {},
   "source": [
    "- X: Dataset (array de n x m ) de puntos a clusterizar\n",
    "- n: numero de datos\n",
    "- m: numero de rasgos\n",
    "- Z: array de enlace del cluster con la informacion de la uniones\n",
    "- k: numero de clusters"
   ]
  },
  {
   "cell_type": "code",
   "execution_count": 6,
   "metadata": {},
   "outputs": [],
   "source": [
    "import matplotlib.pyplot as plt \n",
    "from scipy.cluster.hierarchy import dendrogram,linkage\n",
    "import numpy as np"
   ]
  },
  {
   "cell_type": "code",
   "execution_count": 9,
   "metadata": {},
   "outputs": [
    {
     "name": "stdout",
     "output_type": "stream",
     "text": [
      "(150, 2)\n"
     ]
    },
    {
     "data": {
      "image/png": "[encoded data removed]",
      "text/plain": [
       "<Figure size 432x288 with 1 Axes>"
      ]
     },
     "metadata": {},
     "output_type": "display_data"
    }
   ],
   "source": [
    "np.random.seed(4711)\n",
    "# normal entorno al punto 10, desviacion (3,1) horizontal y (1,4) vertical\n",
    "a=np.random.multivariate_normal([10,0],[[3,1],[1,4]],size=[100,])  # [100,], genera funcion multivariante\n",
    "b=np.random.multivariate_normal([0,30],[[3,1],[1,4]],size=[50,])  # [100,], genera funcion multivariante\n",
    "X=np.concatenate((a,b))\n",
    "print(X.shape)\n",
    "plt.scatter(X[:,0],X[:,1])\n",
    "plt.show()"
   ]
  },
  {
   "cell_type": "markdown",
   "metadata": {},
   "source": [
    "### Generar matriz de enlace"
   ]
  },
  {
   "cell_type": "code",
   "execution_count": 13,
   "metadata": {},
   "outputs": [],
   "source": [
    "Z=linkage(X,\"ward\")"
   ]
  },
  {
   "cell_type": "code",
   "execution_count": 15,
   "metadata": {},
   "outputs": [],
   "source": [
    "from scipy.cluster.hierarchy import cophenet\n",
    "from scipy.spatial.distance import pdist"
   ]
  },
  {
   "cell_type": "code",
   "execution_count": 16,
   "metadata": {},
   "outputs": [
    {
     "data": {
      "text/plain": [
       "0.9900786496046586"
      ]
     },
     "execution_count": 16,
     "metadata": {},
     "output_type": "execute_result"
    }
   ],
   "source": [
    "c, coph_dist = cophenet(Z,pdist(X))\n",
    "c # c= % conservacion de las distacias originales con respecto a los clusterings que se han generado"
   ]
  },
  {
   "cell_type": "code",
   "execution_count": 18,
   "metadata": {},
   "outputs": [
    {
     "data": {
      "text/plain": [
       "array([5.20000000e+01, 5.30000000e+01, 4.15105485e-02, 2.00000000e+00])"
      ]
     },
     "execution_count": 18,
     "metadata": {},
     "output_type": "execute_result"
    }
   ],
   "source": [
    "Z[0]\n",
    "# El punto de dato nro: 52 y 53 tienen una distancia de 4.15 y agrupa 2 elementos\n",
    "# Z[0] = array([5.20000000e+01, 5.30000000e+01, 4.15105485e-02, 2.00000000e+00])"
   ]
  },
  {
   "cell_type": "code",
   "execution_count": 19,
   "metadata": {},
   "outputs": [
    {
     "data": {
      "text/plain": [
       "array([[5.20000000e+01, 5.30000000e+01, 4.15105485e-02, 2.00000000e+00],\n",
       "       [1.40000000e+01, 7.90000000e+01, 5.91375926e-02, 2.00000000e+00],\n",
       "       [3.30000000e+01, 6.80000000e+01, 7.10677929e-02, 2.00000000e+00],\n",
       "       [1.70000000e+01, 7.30000000e+01, 7.13712071e-02, 2.00000000e+00],\n",
       "       [1.00000000e+00, 8.00000000e+00, 7.54313099e-02, 2.00000000e+00],\n",
       "       [8.50000000e+01, 9.50000000e+01, 1.09277896e-01, 2.00000000e+00],\n",
       "       [1.08000000e+02, 1.31000000e+02, 1.10071548e-01, 2.00000000e+00],\n",
       "       [9.00000000e+00, 6.60000000e+01, 1.13022407e-01, 2.00000000e+00],\n",
       "       [1.50000000e+01, 6.90000000e+01, 1.14289714e-01, 2.00000000e+00],\n",
       "       [6.30000000e+01, 9.80000000e+01, 1.21200766e-01, 2.00000000e+00],\n",
       "       [1.07000000e+02, 1.15000000e+02, 1.21671017e-01, 2.00000000e+00],\n",
       "       [6.50000000e+01, 7.40000000e+01, 1.24900190e-01, 2.00000000e+00],\n",
       "       [5.80000000e+01, 6.10000000e+01, 1.40277358e-01, 2.00000000e+00],\n",
       "       [6.20000000e+01, 1.52000000e+02, 1.72599535e-01, 3.00000000e+00],\n",
       "       [4.10000000e+01, 1.58000000e+02, 1.77901377e-01, 3.00000000e+00],\n",
       "       [1.00000000e+01, 8.30000000e+01, 1.86354938e-01, 2.00000000e+00],\n",
       "       [1.14000000e+02, 1.39000000e+02, 2.04186147e-01, 2.00000000e+00],\n",
       "       [3.90000000e+01, 8.80000000e+01, 2.06282849e-01, 2.00000000e+00],\n",
       "       [7.00000000e+01, 9.60000000e+01, 2.19312547e-01, 2.00000000e+00],\n",
       "       [4.60000000e+01, 5.00000000e+01, 2.20492804e-01, 2.00000000e+00]])"
      ]
     },
     "execution_count": 19,
     "metadata": {},
     "output_type": "execute_result"
    }
   ],
   "source": [
    "Z[:20] # Valor generado: 1.52000000e+02,"
   ]
  },
  {
   "cell_type": "code",
   "execution_count": 28,
   "metadata": {},
   "outputs": [
    {
     "name": "stdout",
     "output_type": "stream",
     "text": [
      "[33.         68.          0.07106779  2.        ]\n",
      "[15.         69.          0.11428971  2.        ]\n"
     ]
    }
   ],
   "source": [
    "# Cluster a investigar: 152\n",
    "#[6.20000000e+01, 1.52000000e+02, 1.72599535e-01, 3.00000000e+00],\n",
    "print(Z[152-len(X)]) # cluster 152\n",
    "print(Z[158-len(X)]) # cluster 152"
   ]
  },
  {
   "cell_type": "code",
   "execution_count": 29,
   "metadata": {},
   "outputs": [
    {
     "data": {
      "text/plain": [
       "array([[ 9.83913054, -0.48729797],\n",
       "       [ 9.8934927 , -0.44152257],\n",
       "       [ 9.97792822, -0.56383202]])"
      ]
     },
     "execution_count": 29,
     "metadata": {},
     "output_type": "execute_result"
    }
   ],
   "source": [
    "X[[33, 68,  62]]"
   ]
  },
  {
   "cell_type": "code",
   "execution_count": 32,
   "metadata": {},
   "outputs": [
    {
     "data": {
      "image/png": "[encoded data removed]",
      "text/plain": [
       "<Figure size 720x576 with 1 Axes>"
      ]
     },
     "metadata": {},
     "output_type": "display_data"
    }
   ],
   "source": [
    "idx=[33,68,62]\n",
    "idx2=[15,69,41]\n",
    "plt.figure(figsize=(10,8))\n",
    "plt.scatter(X[:,0],X[:,1]) # pintar todos los puntos\n",
    "plt.scatter(X[idx,0],X[idx,1],c='r') # destacamos los puntos seleccionados\n",
    "plt.scatter(X[idx2,0],X[idx2,1],c='y') # destacamos en amirillo el segundo cluster\n",
    "plt.show()"
   ]
  },
  {
   "cell_type": "markdown",
   "metadata": {},
   "source": [
    "### Representacion grafica de un dendrograma"
   ]
  },
  {
   "cell_type": "code",
   "execution_count": null,
   "metadata": {},
   "outputs": [],
   "source": []
  }
 ],
 "metadata": {
  "kernelspec": {
   "display_name": "Python 3",
   "language": "python",
   "name": "python3"
  },
  "language_info": {
   "codemirror_mode": {
    "name": "ipython",
    "version": 3
   },
   "file_extension": ".py",
   "mimetype": "text/x-python",
   "name": "python",
   "nbconvert_exporter": "python",
   "pygments_lexer": "ipython3",
   "version": "3.6.5"
  }
 },
 "nbformat": 4,
 "nbformat_minor": 2
}
